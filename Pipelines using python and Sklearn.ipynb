{
 "cells": [
  {
   "cell_type": "markdown",
   "id": "eda41b41",
   "metadata": {},
   "source": [
    "## sklearn.pipeline.Pipeline\n",
    "- Pipeline of transforms with a final estimator.\n",
    "- That is, Sequentially apply a list of transforms and a final estimator.\n",
    "- Intermediate steps of the pipeline must be ‘transforms’, that is, they must implement fit and transform methods. \n",
    "- The final estimator only needs to implement fit.\n",
    "- Pipelines assembles several steps and then cross validated.\n",
    "- Cross Validation: used to test the ability of a machine learning model to predict new data. This flags overfitting or selection bias and gives insights on how the model will generalize to an independent dataset.\n",
    "\n",
    "##### what pipelines do?\n",
    "- I can apply methods like feature scaling, imputing, dimensionality reduction in pipeline fashion and then any machine learning algorithm can be applied over this and be cross validated together"
   ]
  },
  {
   "cell_type": "code",
   "execution_count": 1,
   "id": "fa02ffdf",
   "metadata": {},
   "outputs": [],
   "source": [
    "from sklearn.pipeline import Pipeline\n",
    "##feature Scaling\n",
    "from sklearn.preprocessing import StandardScaler\n",
    "#importing LR algo\n",
    "from sklearn.linear_model import LogisticRegression"
   ]
  },
  {
   "cell_type": "code",
   "execution_count": 2,
   "id": "a816392e",
   "metadata": {},
   "outputs": [],
   "source": [
    "# combining transformation technique and estimator (ML algo)\n",
    "#creating a list called steps which inturn has tuples in key value pair. \n",
    "\n",
    "steps=[(\"standard_scaler\",StandardScaler()),\n",
    "      (\"classifier\",LogisticRegression())]"
   ]
  },
  {
   "cell_type": "code",
   "execution_count": 3,
   "id": "af639253",
   "metadata": {},
   "outputs": [
    {
     "data": {
      "text/plain": [
       "[('standard_scaler', StandardScaler()), ('classifier', LogisticRegression())]"
      ]
     },
     "execution_count": 3,
     "metadata": {},
     "output_type": "execute_result"
    }
   ],
   "source": [
    "steps"
   ]
  },
  {
   "cell_type": "code",
   "execution_count": 4,
   "id": "87c9e4d3",
   "metadata": {},
   "outputs": [],
   "source": [
    "#passing steps inside Pipeline using Pipeline() and saving in pipe variable\n",
    "pipe= Pipeline(steps)"
   ]
  },
  {
   "cell_type": "code",
   "execution_count": 5,
   "id": "683c221a",
   "metadata": {},
   "outputs": [
    {
     "data": {
      "text/plain": [
       "Pipeline(steps=[('standard_scaler', StandardScaler()),\n",
       "                ('classifier', LogisticRegression())])"
      ]
     },
     "execution_count": 5,
     "metadata": {},
     "output_type": "execute_result"
    }
   ],
   "source": [
    "pipe"
   ]
  },
  {
   "cell_type": "code",
   "execution_count": 6,
   "id": "83ece00c",
   "metadata": {},
   "outputs": [],
   "source": [
    "# to visualise: set_config\n",
    "from sklearn import set_config"
   ]
  },
  {
   "cell_type": "code",
   "execution_count": 7,
   "id": "17523186",
   "metadata": {},
   "outputs": [],
   "source": [
    "set_config(display= \"diagram\")"
   ]
  },
  {
   "cell_type": "code",
   "execution_count": 8,
   "id": "11c37c2c",
   "metadata": {},
   "outputs": [
    {
     "data": {
      "text/html": [
       "<style>#sk-3f0cdce7-1491-44be-b6c5-f6c01d0cfa7c {color: black;background-color: white;}#sk-3f0cdce7-1491-44be-b6c5-f6c01d0cfa7c pre{padding: 0;}#sk-3f0cdce7-1491-44be-b6c5-f6c01d0cfa7c div.sk-toggleable {background-color: white;}#sk-3f0cdce7-1491-44be-b6c5-f6c01d0cfa7c label.sk-toggleable__label {cursor: pointer;display: block;width: 100%;margin-bottom: 0;padding: 0.3em;box-sizing: border-box;text-align: center;}#sk-3f0cdce7-1491-44be-b6c5-f6c01d0cfa7c label.sk-toggleable__label-arrow:before {content: \"▸\";float: left;margin-right: 0.25em;color: #696969;}#sk-3f0cdce7-1491-44be-b6c5-f6c01d0cfa7c label.sk-toggleable__label-arrow:hover:before {color: black;}#sk-3f0cdce7-1491-44be-b6c5-f6c01d0cfa7c div.sk-estimator:hover label.sk-toggleable__label-arrow:before {color: black;}#sk-3f0cdce7-1491-44be-b6c5-f6c01d0cfa7c div.sk-toggleable__content {max-height: 0;max-width: 0;overflow: hidden;text-align: left;background-color: #f0f8ff;}#sk-3f0cdce7-1491-44be-b6c5-f6c01d0cfa7c div.sk-toggleable__content pre {margin: 0.2em;color: black;border-radius: 0.25em;background-color: #f0f8ff;}#sk-3f0cdce7-1491-44be-b6c5-f6c01d0cfa7c input.sk-toggleable__control:checked~div.sk-toggleable__content {max-height: 200px;max-width: 100%;overflow: auto;}#sk-3f0cdce7-1491-44be-b6c5-f6c01d0cfa7c input.sk-toggleable__control:checked~label.sk-toggleable__label-arrow:before {content: \"▾\";}#sk-3f0cdce7-1491-44be-b6c5-f6c01d0cfa7c div.sk-estimator input.sk-toggleable__control:checked~label.sk-toggleable__label {background-color: #d4ebff;}#sk-3f0cdce7-1491-44be-b6c5-f6c01d0cfa7c div.sk-label input.sk-toggleable__control:checked~label.sk-toggleable__label {background-color: #d4ebff;}#sk-3f0cdce7-1491-44be-b6c5-f6c01d0cfa7c input.sk-hidden--visually {border: 0;clip: rect(1px 1px 1px 1px);clip: rect(1px, 1px, 1px, 1px);height: 1px;margin: -1px;overflow: hidden;padding: 0;position: absolute;width: 1px;}#sk-3f0cdce7-1491-44be-b6c5-f6c01d0cfa7c div.sk-estimator {font-family: monospace;background-color: #f0f8ff;border: 1px dotted black;border-radius: 0.25em;box-sizing: border-box;margin-bottom: 0.5em;}#sk-3f0cdce7-1491-44be-b6c5-f6c01d0cfa7c div.sk-estimator:hover {background-color: #d4ebff;}#sk-3f0cdce7-1491-44be-b6c5-f6c01d0cfa7c div.sk-parallel-item::after {content: \"\";width: 100%;border-bottom: 1px solid gray;flex-grow: 1;}#sk-3f0cdce7-1491-44be-b6c5-f6c01d0cfa7c div.sk-label:hover label.sk-toggleable__label {background-color: #d4ebff;}#sk-3f0cdce7-1491-44be-b6c5-f6c01d0cfa7c div.sk-serial::before {content: \"\";position: absolute;border-left: 1px solid gray;box-sizing: border-box;top: 2em;bottom: 0;left: 50%;}#sk-3f0cdce7-1491-44be-b6c5-f6c01d0cfa7c div.sk-serial {display: flex;flex-direction: column;align-items: center;background-color: white;padding-right: 0.2em;padding-left: 0.2em;}#sk-3f0cdce7-1491-44be-b6c5-f6c01d0cfa7c div.sk-item {z-index: 1;}#sk-3f0cdce7-1491-44be-b6c5-f6c01d0cfa7c div.sk-parallel {display: flex;align-items: stretch;justify-content: center;background-color: white;}#sk-3f0cdce7-1491-44be-b6c5-f6c01d0cfa7c div.sk-parallel::before {content: \"\";position: absolute;border-left: 1px solid gray;box-sizing: border-box;top: 2em;bottom: 0;left: 50%;}#sk-3f0cdce7-1491-44be-b6c5-f6c01d0cfa7c div.sk-parallel-item {display: flex;flex-direction: column;position: relative;background-color: white;}#sk-3f0cdce7-1491-44be-b6c5-f6c01d0cfa7c div.sk-parallel-item:first-child::after {align-self: flex-end;width: 50%;}#sk-3f0cdce7-1491-44be-b6c5-f6c01d0cfa7c div.sk-parallel-item:last-child::after {align-self: flex-start;width: 50%;}#sk-3f0cdce7-1491-44be-b6c5-f6c01d0cfa7c div.sk-parallel-item:only-child::after {width: 0;}#sk-3f0cdce7-1491-44be-b6c5-f6c01d0cfa7c div.sk-dashed-wrapped {border: 1px dashed gray;margin: 0 0.4em 0.5em 0.4em;box-sizing: border-box;padding-bottom: 0.4em;background-color: white;position: relative;}#sk-3f0cdce7-1491-44be-b6c5-f6c01d0cfa7c div.sk-label label {font-family: monospace;font-weight: bold;background-color: white;display: inline-block;line-height: 1.2em;}#sk-3f0cdce7-1491-44be-b6c5-f6c01d0cfa7c div.sk-label-container {position: relative;z-index: 2;text-align: center;}#sk-3f0cdce7-1491-44be-b6c5-f6c01d0cfa7c div.sk-container {/* jupyter's `normalize.less` sets `[hidden] { display: none; }` but bootstrap.min.css set `[hidden] { display: none !important; }` so we also need the `!important` here to be able to override the default hidden behavior on the sphinx rendered scikit-learn.org. See: https://github.com/scikit-learn/scikit-learn/issues/21755 */display: inline-block !important;position: relative;}#sk-3f0cdce7-1491-44be-b6c5-f6c01d0cfa7c div.sk-text-repr-fallback {display: none;}</style><div id=\"sk-3f0cdce7-1491-44be-b6c5-f6c01d0cfa7c\" class=\"sk-top-container\"><div class=\"sk-text-repr-fallback\"><pre>Pipeline(steps=[(&#x27;standard_scaler&#x27;, StandardScaler()),\n",
       "                (&#x27;classifier&#x27;, LogisticRegression())])</pre><b>Please rerun this cell to show the HTML repr or trust the notebook.</b></div><div class=\"sk-container\" hidden><div class=\"sk-item sk-dashed-wrapped\"><div class=\"sk-label-container\"><div class=\"sk-label sk-toggleable\"><input class=\"sk-toggleable__control sk-hidden--visually\" id=\"4fa85297-1ff7-4468-a003-882e02ad0115\" type=\"checkbox\" ><label for=\"4fa85297-1ff7-4468-a003-882e02ad0115\" class=\"sk-toggleable__label sk-toggleable__label-arrow\">Pipeline</label><div class=\"sk-toggleable__content\"><pre>Pipeline(steps=[(&#x27;standard_scaler&#x27;, StandardScaler()),\n",
       "                (&#x27;classifier&#x27;, LogisticRegression())])</pre></div></div></div><div class=\"sk-serial\"><div class=\"sk-item\"><div class=\"sk-estimator sk-toggleable\"><input class=\"sk-toggleable__control sk-hidden--visually\" id=\"757a464c-9518-4bb0-bf53-08f4fcbe5ba8\" type=\"checkbox\" ><label for=\"757a464c-9518-4bb0-bf53-08f4fcbe5ba8\" class=\"sk-toggleable__label sk-toggleable__label-arrow\">StandardScaler</label><div class=\"sk-toggleable__content\"><pre>StandardScaler()</pre></div></div></div><div class=\"sk-item\"><div class=\"sk-estimator sk-toggleable\"><input class=\"sk-toggleable__control sk-hidden--visually\" id=\"1fc49d9d-3499-41c2-9ebf-b51b737be9b1\" type=\"checkbox\" ><label for=\"1fc49d9d-3499-41c2-9ebf-b51b737be9b1\" class=\"sk-toggleable__label sk-toggleable__label-arrow\">LogisticRegression</label><div class=\"sk-toggleable__content\"><pre>LogisticRegression()</pre></div></div></div></div></div></div></div>"
      ],
      "text/plain": [
       "Pipeline(steps=[('standard_scaler', StandardScaler()),\n",
       "                ('classifier', LogisticRegression())])"
      ]
     },
     "execution_count": 8,
     "metadata": {},
     "output_type": "execute_result"
    }
   ],
   "source": [
    "pipe"
   ]
  },
  {
   "cell_type": "code",
   "execution_count": 9,
   "id": "8c23eacb",
   "metadata": {},
   "outputs": [],
   "source": [
    "# I can add any dataset. Creating dataset\n",
    "\n",
    "from sklearn.datasets import make_classification\n",
    "X,y=make_classification(n_samples=1000) \n",
    "# make_classification() Generates a random n-class classification problem with default X as 20(20 cols)\n",
    "# y as 2 class and samples 100. Here I have given sample 1000"
   ]
  },
  {
   "cell_type": "code",
   "execution_count": 10,
   "id": "5fc0a3b5",
   "metadata": {},
   "outputs": [
    {
     "data": {
      "text/plain": [
       "array([[ 0.87206259,  0.00350708, -0.26201905, ...,  1.10163372,\n",
       "         0.64360476,  0.16775987],\n",
       "       [ 0.61835318,  0.51356027,  0.53625189, ..., -0.65818131,\n",
       "        -0.76118548, -1.47710464],\n",
       "       [-0.72910641, -2.01848758,  0.49350838, ...,  1.50520394,\n",
       "        -0.64497849, -0.2373421 ],\n",
       "       ...,\n",
       "       [ 1.30219491, -0.3560658 , -1.33499749, ...,  0.91902825,\n",
       "         0.93045216,  0.68493587],\n",
       "       [ 0.19336917, -2.03414027,  0.32946048, ...,  0.86265806,\n",
       "         0.89290973, -0.71611758],\n",
       "       [ 1.66784729,  1.82019875,  0.11848861, ...,  0.44790398,\n",
       "         0.32349038, -0.65883478]])"
      ]
     },
     "execution_count": 10,
     "metadata": {},
     "output_type": "execute_result"
    }
   ],
   "source": [
    "X"
   ]
  },
  {
   "cell_type": "code",
   "execution_count": 11,
   "id": "f43357b5",
   "metadata": {},
   "outputs": [
    {
     "data": {
      "text/plain": [
       "array([1, 0, 0, 1, 0, 0, 1, 0, 0, 0, 1, 1, 1, 0, 1, 0, 1, 0, 1, 0, 1, 1,\n",
       "       1, 1, 0, 1, 0, 0, 1, 1, 1, 1, 1, 1, 1, 1, 0, 0, 1, 1, 0, 1, 1, 1,\n",
       "       1, 1, 0, 0, 1, 1, 0, 0, 0, 1, 0, 1, 0, 0, 0, 1, 1, 0, 1, 1, 0, 0,\n",
       "       1, 1, 1, 0, 1, 1, 1, 1, 1, 0, 0, 1, 1, 0, 1, 1, 0, 0, 1, 1, 0, 1,\n",
       "       1, 1, 1, 0, 1, 1, 1, 0, 0, 0, 0, 1, 0, 0, 0, 1, 0, 0, 0, 1, 1, 0,\n",
       "       1, 0, 0, 0, 1, 0, 1, 1, 1, 1, 0, 0, 1, 0, 1, 1, 1, 1, 1, 0, 0, 1,\n",
       "       1, 1, 1, 0, 0, 0, 1, 0, 1, 0, 1, 0, 0, 1, 1, 1, 1, 0, 1, 0, 0, 1,\n",
       "       0, 0, 0, 1, 0, 1, 1, 0, 0, 0, 1, 1, 0, 1, 1, 0, 0, 1, 1, 1, 1, 0,\n",
       "       0, 1, 0, 1, 0, 1, 1, 0, 0, 0, 0, 1, 1, 0, 1, 0, 1, 1, 1, 1, 0, 0,\n",
       "       0, 0, 1, 1, 1, 0, 0, 0, 0, 1, 0, 1, 1, 1, 0, 1, 1, 1, 1, 1, 1, 1,\n",
       "       1, 1, 0, 0, 0, 0, 0, 1, 0, 0, 0, 1, 1, 1, 0, 0, 0, 0, 1, 1, 0, 0,\n",
       "       0, 0, 0, 0, 1, 0, 1, 0, 0, 1, 0, 1, 1, 0, 0, 1, 1, 1, 1, 1, 0, 0,\n",
       "       0, 0, 0, 1, 0, 1, 1, 0, 1, 0, 1, 1, 0, 0, 0, 1, 0, 1, 1, 0, 1, 0,\n",
       "       1, 1, 1, 1, 1, 1, 1, 0, 0, 0, 0, 0, 1, 0, 1, 0, 0, 1, 1, 1, 0, 0,\n",
       "       0, 0, 1, 0, 1, 0, 0, 1, 0, 1, 1, 0, 1, 0, 0, 1, 0, 1, 0, 0, 1, 1,\n",
       "       0, 1, 1, 0, 0, 1, 0, 0, 0, 0, 1, 1, 0, 0, 1, 0, 1, 0, 1, 1, 1, 1,\n",
       "       0, 0, 0, 1, 0, 0, 0, 0, 1, 1, 0, 0, 1, 0, 0, 1, 1, 1, 1, 1, 1, 0,\n",
       "       1, 0, 0, 0, 0, 1, 1, 1, 1, 1, 0, 1, 1, 1, 1, 0, 1, 0, 0, 1, 1, 0,\n",
       "       1, 1, 0, 0, 1, 0, 1, 0, 0, 0, 1, 1, 0, 1, 0, 0, 1, 1, 0, 0, 1, 1,\n",
       "       1, 1, 1, 0, 0, 0, 0, 1, 0, 1, 0, 1, 0, 1, 0, 0, 1, 0, 1, 0, 1, 1,\n",
       "       0, 1, 1, 1, 0, 1, 1, 1, 1, 0, 0, 0, 1, 1, 1, 0, 0, 1, 1, 1, 1, 1,\n",
       "       1, 1, 1, 1, 1, 0, 0, 1, 0, 1, 0, 1, 0, 0, 0, 0, 0, 0, 1, 1, 1, 1,\n",
       "       0, 0, 1, 1, 1, 1, 1, 0, 1, 1, 1, 0, 1, 1, 0, 0, 0, 1, 1, 0, 1, 0,\n",
       "       1, 0, 0, 0, 1, 0, 1, 1, 1, 1, 0, 1, 0, 0, 0, 1, 1, 0, 1, 0, 0, 1,\n",
       "       1, 0, 0, 1, 1, 0, 0, 1, 0, 1, 1, 1, 1, 0, 1, 1, 1, 0, 0, 1, 0, 0,\n",
       "       1, 1, 1, 0, 1, 0, 0, 0, 0, 1, 1, 1, 0, 0, 0, 0, 0, 0, 0, 0, 1, 1,\n",
       "       1, 1, 1, 0, 1, 1, 0, 0, 0, 1, 1, 0, 1, 0, 1, 0, 0, 0, 1, 0, 1, 0,\n",
       "       0, 1, 0, 1, 0, 1, 1, 0, 0, 1, 0, 1, 0, 0, 0, 0, 0, 1, 0, 0, 0, 0,\n",
       "       0, 0, 0, 1, 1, 1, 1, 0, 1, 0, 0, 0, 0, 0, 1, 1, 0, 1, 0, 0, 1, 1,\n",
       "       0, 0, 0, 0, 1, 0, 1, 0, 0, 0, 1, 1, 1, 1, 0, 0, 1, 1, 0, 1, 0, 1,\n",
       "       0, 0, 0, 0, 0, 0, 0, 0, 0, 1, 0, 1, 1, 1, 0, 0, 0, 1, 0, 1, 0, 0,\n",
       "       1, 1, 1, 1, 0, 1, 0, 0, 1, 1, 0, 0, 0, 1, 1, 1, 1, 1, 1, 1, 1, 1,\n",
       "       1, 0, 0, 0, 0, 1, 0, 0, 0, 0, 1, 1, 1, 0, 0, 0, 0, 0, 0, 1, 1, 0,\n",
       "       1, 1, 0, 1, 0, 0, 0, 0, 1, 0, 1, 1, 0, 0, 0, 0, 1, 0, 1, 1, 0, 0,\n",
       "       0, 0, 1, 0, 0, 0, 0, 1, 1, 0, 1, 0, 1, 0, 1, 0, 0, 1, 1, 1, 1, 0,\n",
       "       0, 0, 0, 1, 1, 0, 0, 1, 0, 0, 0, 0, 1, 0, 1, 0, 0, 1, 1, 0, 0, 0,\n",
       "       0, 1, 0, 0, 0, 1, 0, 1, 0, 1, 0, 1, 1, 0, 0, 1, 0, 1, 0, 1, 1, 0,\n",
       "       0, 0, 1, 0, 0, 1, 1, 1, 1, 0, 0, 1, 0, 1, 1, 0, 1, 0, 1, 1, 1, 1,\n",
       "       0, 0, 0, 0, 0, 1, 0, 1, 1, 1, 0, 0, 1, 1, 0, 1, 1, 0, 1, 0, 1, 0,\n",
       "       1, 0, 0, 1, 1, 1, 1, 1, 0, 1, 0, 0, 0, 1, 1, 0, 1, 1, 0, 1, 1, 0,\n",
       "       1, 0, 0, 0, 0, 0, 1, 0, 1, 1, 1, 0, 0, 0, 0, 0, 1, 0, 0, 0, 0, 0,\n",
       "       1, 1, 0, 0, 1, 0, 0, 1, 1, 1, 0, 1, 0, 1, 1, 1, 1, 0, 1, 1, 1, 0,\n",
       "       0, 0, 1, 0, 1, 0, 1, 0, 0, 1, 1, 0, 0, 1, 0, 0, 0, 1, 1, 0, 1, 1,\n",
       "       1, 0, 1, 0, 0, 1, 1, 0, 0, 1, 0, 1, 0, 1, 1, 1, 1, 1, 1, 0, 0, 1,\n",
       "       1, 0, 0, 1, 0, 0, 1, 0, 0, 0, 0, 0, 1, 1, 0, 0, 0, 1, 1, 0, 1, 0,\n",
       "       1, 1, 0, 1, 0, 0, 0, 1, 1, 0])"
      ]
     },
     "execution_count": 11,
     "metadata": {},
     "output_type": "execute_result"
    }
   ],
   "source": [
    "y"
   ]
  },
  {
   "cell_type": "code",
   "execution_count": 12,
   "id": "7633ba35",
   "metadata": {},
   "outputs": [
    {
     "data": {
      "text/plain": [
       "(1000, 20)"
      ]
     },
     "execution_count": 12,
     "metadata": {},
     "output_type": "execute_result"
    }
   ],
   "source": [
    "X.shape"
   ]
  },
  {
   "cell_type": "code",
   "execution_count": 13,
   "id": "c689ca17",
   "metadata": {},
   "outputs": [],
   "source": [
    "from sklearn.model_selection import train_test_split\n",
    "X_train, X_test, y_train, y_test = train_test_split(\n",
    "    X, y, test_size=0.33, random_state=42)"
   ]
  },
  {
   "cell_type": "code",
   "execution_count": 14,
   "id": "9db1785c",
   "metadata": {},
   "outputs": [
    {
     "data": {
      "text/plain": [
       "array([[-0.96394176,  0.2543214 , -1.4668463 , ..., -0.85604681,\n",
       "         0.41234556, -1.15593387],\n",
       "       [-0.3441473 , -0.55628248, -0.71064703, ...,  0.12527108,\n",
       "        -0.64690736, -0.0773938 ],\n",
       "       [-1.02335617, -0.89617994, -1.66623345, ...,  0.27510921,\n",
       "        -1.34659532, -0.06257454],\n",
       "       ...,\n",
       "       [ 2.32131478,  0.36427114,  0.49552722, ..., -0.27892843,\n",
       "         0.2890696 , -2.10170944],\n",
       "       [ 0.3894091 , -0.45742955, -0.25590278, ...,  0.7629092 ,\n",
       "        -0.53483462,  0.42571336],\n",
       "       [-1.77637354,  0.18860725,  1.34765762, ...,  1.04234035,\n",
       "        -1.49603865,  0.05646045]])"
      ]
     },
     "execution_count": 14,
     "metadata": {},
     "output_type": "execute_result"
    }
   ],
   "source": [
    "X_train"
   ]
  },
  {
   "cell_type": "code",
   "execution_count": 15,
   "id": "6824a5c7",
   "metadata": {},
   "outputs": [
    {
     "data": {
      "text/plain": [
       "array([1, 0, 0, 0, 1, 0, 0, 1, 1, 1, 0, 0, 1, 1, 1, 1, 1, 1, 1, 0, 1, 1,\n",
       "       0, 0, 1, 1, 1, 0, 0, 0, 0, 0, 0, 0, 1, 1, 1, 1, 1, 1, 0, 0, 1, 1,\n",
       "       1, 1, 0, 1, 1, 0, 1, 1, 0, 0, 1, 0, 0, 1, 1, 1, 0, 1, 1, 1, 0, 0,\n",
       "       0, 1, 0, 1, 0, 0, 1, 1, 0, 0, 1, 0, 0, 0, 0, 1, 0, 0, 0, 0, 1, 1,\n",
       "       0, 1, 1, 1, 1, 0, 0, 1, 0, 0, 0, 1, 0, 1, 0, 0, 0, 1, 1, 1, 0, 0,\n",
       "       0, 1, 0, 0, 0, 1, 1, 0, 0, 1, 0, 0, 1, 0, 1, 0, 0, 1, 0, 1, 1, 0,\n",
       "       0, 1, 1, 0, 1, 1, 0, 1, 1, 1, 1, 1, 0, 1, 1, 1, 1, 0, 1, 1, 1, 1,\n",
       "       0, 1, 1, 1, 1, 1, 0, 1, 1, 0, 0, 0, 0, 1, 0, 0, 0, 1, 0, 1, 1, 1,\n",
       "       1, 1, 0, 0, 1, 1, 1, 0, 0, 1, 0, 1, 0, 1, 0, 0, 1, 1, 1, 1, 1, 0,\n",
       "       1, 1, 0, 1, 1, 1, 1, 1, 1, 0, 0, 1, 1, 0, 0, 1, 1, 0, 1, 1, 0, 1,\n",
       "       1, 1, 0, 0, 1, 0, 1, 0, 0, 1, 1, 0, 1, 1, 0, 1, 0, 1, 1, 0, 0, 1,\n",
       "       0, 0, 0, 0, 1, 0, 0, 0, 1, 0, 1, 0, 0, 1, 1, 1, 1, 0, 0, 1, 0, 0,\n",
       "       1, 0, 1, 0, 0, 0, 0, 1, 0, 0, 1, 1, 1, 0, 0, 0, 0, 0, 0, 0, 1, 1,\n",
       "       0, 1, 0, 1, 1, 1, 1, 1, 1, 0, 1, 1, 0, 1, 1, 1, 0, 0, 1, 0, 0, 0,\n",
       "       0, 1, 1, 0, 0, 0, 1, 1, 1, 0, 1, 1, 1, 1, 1, 0, 0, 1, 0, 1, 0, 0,\n",
       "       0, 1, 1, 1, 0, 0, 0, 1, 0, 1, 1, 1, 0, 1, 1, 1, 0, 0, 1, 1, 0, 1,\n",
       "       1, 0, 1, 0, 1, 1, 1, 1, 0, 1, 0, 0, 0, 0, 0, 0, 0, 1, 1, 0, 1, 1,\n",
       "       1, 1, 1, 1, 0, 0, 0, 1, 1, 1, 1, 0, 0, 0, 0, 0, 0, 0, 0, 1, 0, 1,\n",
       "       1, 0, 1, 1, 1, 0, 0, 1, 1, 1, 0, 0, 1, 1, 1, 0, 0, 1, 1, 0, 1, 0,\n",
       "       0, 0, 1, 1, 1, 1, 0, 0, 1, 1, 1, 1, 0, 1, 1, 0, 0, 1, 0, 1, 0, 1,\n",
       "       0, 0, 1, 1, 0, 0, 1, 0, 1, 1, 0, 0, 1, 0, 0, 0, 0, 0, 0, 0, 0, 0,\n",
       "       0, 1, 0, 1, 0, 1, 0, 0, 0, 1, 1, 0, 1, 0, 1, 1, 1, 1, 1, 0, 1, 1,\n",
       "       0, 0, 1, 0, 0, 0, 0, 1, 1, 1, 1, 0, 1, 0, 0, 0, 1, 1, 1, 1, 0, 1,\n",
       "       1, 0, 0, 0, 0, 0, 1, 0, 1, 1, 1, 1, 1, 0, 1, 0, 0, 1, 1, 0, 1, 0,\n",
       "       1, 0, 0, 1, 1, 0, 0, 1, 0, 1, 1, 1, 0, 1, 0, 0, 0, 1, 0, 1, 1, 0,\n",
       "       0, 1, 1, 1, 0, 1, 0, 0, 1, 0, 0, 0, 1, 0, 1, 1, 1, 1, 0, 0, 0, 1,\n",
       "       1, 1, 0, 0, 1, 0, 1, 0, 1, 0, 0, 0, 0, 0, 1, 0, 1, 1, 0, 1, 0, 0,\n",
       "       1, 1, 0, 0, 0, 0, 0, 0, 0, 0, 0, 1, 1, 1, 0, 0, 0, 0, 0, 0, 0, 1,\n",
       "       1, 0, 0, 0, 1, 0, 0, 0, 1, 1, 0, 0, 1, 0, 0, 1, 1, 0, 0, 1, 0, 1,\n",
       "       1, 0, 1, 0, 1, 0, 1, 0, 0, 0, 0, 0, 0, 0, 1, 1, 1, 1, 1, 0, 1, 1,\n",
       "       0, 0, 1, 1, 1, 0, 1, 0, 0, 0])"
      ]
     },
     "execution_count": 15,
     "metadata": {},
     "output_type": "execute_result"
    }
   ],
   "source": [
    "y_train"
   ]
  },
  {
   "cell_type": "code",
   "execution_count": 16,
   "id": "87035e79",
   "metadata": {},
   "outputs": [
    {
     "data": {
      "text/html": [
       "<style>#sk-ed6579cc-fb03-4fc9-93c9-d9c0d040f7fe {color: black;background-color: white;}#sk-ed6579cc-fb03-4fc9-93c9-d9c0d040f7fe pre{padding: 0;}#sk-ed6579cc-fb03-4fc9-93c9-d9c0d040f7fe div.sk-toggleable {background-color: white;}#sk-ed6579cc-fb03-4fc9-93c9-d9c0d040f7fe label.sk-toggleable__label {cursor: pointer;display: block;width: 100%;margin-bottom: 0;padding: 0.3em;box-sizing: border-box;text-align: center;}#sk-ed6579cc-fb03-4fc9-93c9-d9c0d040f7fe label.sk-toggleable__label-arrow:before {content: \"▸\";float: left;margin-right: 0.25em;color: #696969;}#sk-ed6579cc-fb03-4fc9-93c9-d9c0d040f7fe label.sk-toggleable__label-arrow:hover:before {color: black;}#sk-ed6579cc-fb03-4fc9-93c9-d9c0d040f7fe div.sk-estimator:hover label.sk-toggleable__label-arrow:before {color: black;}#sk-ed6579cc-fb03-4fc9-93c9-d9c0d040f7fe div.sk-toggleable__content {max-height: 0;max-width: 0;overflow: hidden;text-align: left;background-color: #f0f8ff;}#sk-ed6579cc-fb03-4fc9-93c9-d9c0d040f7fe div.sk-toggleable__content pre {margin: 0.2em;color: black;border-radius: 0.25em;background-color: #f0f8ff;}#sk-ed6579cc-fb03-4fc9-93c9-d9c0d040f7fe input.sk-toggleable__control:checked~div.sk-toggleable__content {max-height: 200px;max-width: 100%;overflow: auto;}#sk-ed6579cc-fb03-4fc9-93c9-d9c0d040f7fe input.sk-toggleable__control:checked~label.sk-toggleable__label-arrow:before {content: \"▾\";}#sk-ed6579cc-fb03-4fc9-93c9-d9c0d040f7fe div.sk-estimator input.sk-toggleable__control:checked~label.sk-toggleable__label {background-color: #d4ebff;}#sk-ed6579cc-fb03-4fc9-93c9-d9c0d040f7fe div.sk-label input.sk-toggleable__control:checked~label.sk-toggleable__label {background-color: #d4ebff;}#sk-ed6579cc-fb03-4fc9-93c9-d9c0d040f7fe input.sk-hidden--visually {border: 0;clip: rect(1px 1px 1px 1px);clip: rect(1px, 1px, 1px, 1px);height: 1px;margin: -1px;overflow: hidden;padding: 0;position: absolute;width: 1px;}#sk-ed6579cc-fb03-4fc9-93c9-d9c0d040f7fe div.sk-estimator {font-family: monospace;background-color: #f0f8ff;border: 1px dotted black;border-radius: 0.25em;box-sizing: border-box;margin-bottom: 0.5em;}#sk-ed6579cc-fb03-4fc9-93c9-d9c0d040f7fe div.sk-estimator:hover {background-color: #d4ebff;}#sk-ed6579cc-fb03-4fc9-93c9-d9c0d040f7fe div.sk-parallel-item::after {content: \"\";width: 100%;border-bottom: 1px solid gray;flex-grow: 1;}#sk-ed6579cc-fb03-4fc9-93c9-d9c0d040f7fe div.sk-label:hover label.sk-toggleable__label {background-color: #d4ebff;}#sk-ed6579cc-fb03-4fc9-93c9-d9c0d040f7fe div.sk-serial::before {content: \"\";position: absolute;border-left: 1px solid gray;box-sizing: border-box;top: 2em;bottom: 0;left: 50%;}#sk-ed6579cc-fb03-4fc9-93c9-d9c0d040f7fe div.sk-serial {display: flex;flex-direction: column;align-items: center;background-color: white;padding-right: 0.2em;padding-left: 0.2em;}#sk-ed6579cc-fb03-4fc9-93c9-d9c0d040f7fe div.sk-item {z-index: 1;}#sk-ed6579cc-fb03-4fc9-93c9-d9c0d040f7fe div.sk-parallel {display: flex;align-items: stretch;justify-content: center;background-color: white;}#sk-ed6579cc-fb03-4fc9-93c9-d9c0d040f7fe div.sk-parallel::before {content: \"\";position: absolute;border-left: 1px solid gray;box-sizing: border-box;top: 2em;bottom: 0;left: 50%;}#sk-ed6579cc-fb03-4fc9-93c9-d9c0d040f7fe div.sk-parallel-item {display: flex;flex-direction: column;position: relative;background-color: white;}#sk-ed6579cc-fb03-4fc9-93c9-d9c0d040f7fe div.sk-parallel-item:first-child::after {align-self: flex-end;width: 50%;}#sk-ed6579cc-fb03-4fc9-93c9-d9c0d040f7fe div.sk-parallel-item:last-child::after {align-self: flex-start;width: 50%;}#sk-ed6579cc-fb03-4fc9-93c9-d9c0d040f7fe div.sk-parallel-item:only-child::after {width: 0;}#sk-ed6579cc-fb03-4fc9-93c9-d9c0d040f7fe div.sk-dashed-wrapped {border: 1px dashed gray;margin: 0 0.4em 0.5em 0.4em;box-sizing: border-box;padding-bottom: 0.4em;background-color: white;position: relative;}#sk-ed6579cc-fb03-4fc9-93c9-d9c0d040f7fe div.sk-label label {font-family: monospace;font-weight: bold;background-color: white;display: inline-block;line-height: 1.2em;}#sk-ed6579cc-fb03-4fc9-93c9-d9c0d040f7fe div.sk-label-container {position: relative;z-index: 2;text-align: center;}#sk-ed6579cc-fb03-4fc9-93c9-d9c0d040f7fe div.sk-container {/* jupyter's `normalize.less` sets `[hidden] { display: none; }` but bootstrap.min.css set `[hidden] { display: none !important; }` so we also need the `!important` here to be able to override the default hidden behavior on the sphinx rendered scikit-learn.org. See: https://github.com/scikit-learn/scikit-learn/issues/21755 */display: inline-block !important;position: relative;}#sk-ed6579cc-fb03-4fc9-93c9-d9c0d040f7fe div.sk-text-repr-fallback {display: none;}</style><div id=\"sk-ed6579cc-fb03-4fc9-93c9-d9c0d040f7fe\" class=\"sk-top-container\"><div class=\"sk-text-repr-fallback\"><pre>Pipeline(steps=[(&#x27;standard_scaler&#x27;, StandardScaler()),\n",
       "                (&#x27;classifier&#x27;, LogisticRegression())])</pre><b>Please rerun this cell to show the HTML repr or trust the notebook.</b></div><div class=\"sk-container\" hidden><div class=\"sk-item sk-dashed-wrapped\"><div class=\"sk-label-container\"><div class=\"sk-label sk-toggleable\"><input class=\"sk-toggleable__control sk-hidden--visually\" id=\"619827d9-6a05-4369-89a3-b55e88d96978\" type=\"checkbox\" ><label for=\"619827d9-6a05-4369-89a3-b55e88d96978\" class=\"sk-toggleable__label sk-toggleable__label-arrow\">Pipeline</label><div class=\"sk-toggleable__content\"><pre>Pipeline(steps=[(&#x27;standard_scaler&#x27;, StandardScaler()),\n",
       "                (&#x27;classifier&#x27;, LogisticRegression())])</pre></div></div></div><div class=\"sk-serial\"><div class=\"sk-item\"><div class=\"sk-estimator sk-toggleable\"><input class=\"sk-toggleable__control sk-hidden--visually\" id=\"88ccc65f-0320-46c8-97ac-d5335a1f08e4\" type=\"checkbox\" ><label for=\"88ccc65f-0320-46c8-97ac-d5335a1f08e4\" class=\"sk-toggleable__label sk-toggleable__label-arrow\">StandardScaler</label><div class=\"sk-toggleable__content\"><pre>StandardScaler()</pre></div></div></div><div class=\"sk-item\"><div class=\"sk-estimator sk-toggleable\"><input class=\"sk-toggleable__control sk-hidden--visually\" id=\"56177a74-cfb1-4f55-b4e6-45011d11fc91\" type=\"checkbox\" ><label for=\"56177a74-cfb1-4f55-b4e6-45011d11fc91\" class=\"sk-toggleable__label sk-toggleable__label-arrow\">LogisticRegression</label><div class=\"sk-toggleable__content\"><pre>LogisticRegression()</pre></div></div></div></div></div></div></div>"
      ],
      "text/plain": [
       "Pipeline(steps=[('standard_scaler', StandardScaler()),\n",
       "                ('classifier', LogisticRegression())])"
      ]
     },
     "execution_count": 16,
     "metadata": {},
     "output_type": "execute_result"
    }
   ],
   "source": [
    "#fitting\n",
    "pipe.fit(X_train,y_train)\n",
    "# I'm getting this diagram as output as I have set configurations already above\n",
    "# set_config(display= \"diagram\")"
   ]
  },
  {
   "cell_type": "code",
   "execution_count": 17,
   "id": "c0be9402",
   "metadata": {},
   "outputs": [],
   "source": [
    "# predicting\n",
    "y_pred=pipe.predict(X_test)\n",
    "#now it just perfoms transform (not fir_transform)"
   ]
  },
  {
   "cell_type": "code",
   "execution_count": 18,
   "id": "076da62c",
   "metadata": {},
   "outputs": [
    {
     "data": {
      "text/plain": [
       "array([1, 1, 0, 0, 0, 0, 0, 1, 0, 0, 1, 0, 1, 0, 0, 1, 0, 0, 0, 0, 0, 1,\n",
       "       1, 1, 1, 0, 0, 0, 1, 1, 0, 0, 1, 0, 1, 0, 1, 1, 0, 1, 1, 1, 1, 1,\n",
       "       0, 0, 0, 0, 1, 1, 1, 0, 1, 0, 1, 1, 0, 1, 1, 1, 0, 1, 1, 1, 0, 0,\n",
       "       0, 0, 1, 1, 1, 1, 1, 0, 1, 1, 0, 1, 0, 0, 1, 1, 1, 1, 1, 0, 1, 1,\n",
       "       0, 0, 1, 0, 1, 1, 1, 1, 0, 1, 1, 0, 1, 1, 0, 0, 1, 1, 1, 1, 1, 1,\n",
       "       1, 1, 1, 1, 0, 0, 0, 0, 0, 0, 0, 1, 0, 1, 1, 1, 1, 1, 1, 0, 1, 1,\n",
       "       0, 0, 0, 1, 0, 1, 1, 1, 1, 0, 0, 1, 0, 0, 1, 0, 1, 0, 0, 0, 0, 1,\n",
       "       1, 1, 0, 1, 1, 0, 1, 1, 1, 1, 1, 0, 1, 0, 0, 1, 1, 0, 0, 0, 0, 0,\n",
       "       1, 1, 0, 1, 1, 0, 0, 0, 1, 0, 1, 1, 1, 0, 1, 0, 0, 0, 1, 0, 1, 1,\n",
       "       0, 1, 1, 1, 1, 0, 0, 0, 1, 1, 0, 0, 0, 0, 1, 1, 1, 1, 1, 0, 0, 0,\n",
       "       1, 1, 0, 1, 1, 0, 1, 1, 0, 0, 1, 0, 1, 0, 1, 1, 1, 1, 1, 0, 1, 0,\n",
       "       1, 1, 0, 1, 0, 1, 1, 1, 0, 1, 1, 0, 0, 1, 0, 1, 1, 0, 0, 1, 0, 0,\n",
       "       0, 0, 0, 1, 1, 1, 1, 1, 0, 0, 1, 0, 0, 1, 0, 0, 0, 1, 1, 1, 1, 0,\n",
       "       0, 0, 1, 0, 1, 0, 1, 1, 1, 0, 0, 0, 0, 0, 0, 0, 1, 0, 0, 0, 0, 1,\n",
       "       1, 0, 0, 0, 1, 0, 1, 1, 1, 0, 1, 0, 0, 0, 0, 0, 1, 1, 0, 0, 0, 1])"
      ]
     },
     "execution_count": 18,
     "metadata": {},
     "output_type": "execute_result"
    }
   ],
   "source": [
    "y_pred"
   ]
  },
  {
   "cell_type": "markdown",
   "id": "7ff3cce7",
   "metadata": {},
   "source": [
    "#### Applying different techniques like scaling, dimension reduction etc"
   ]
  },
  {
   "cell_type": "markdown",
   "id": "978d0d80",
   "metadata": {},
   "source": [
    "## Standard scalar, dimensionality reduction and estimator in pipeline"
   ]
  },
  {
   "cell_type": "code",
   "execution_count": 19,
   "id": "6603cf89",
   "metadata": {},
   "outputs": [],
   "source": [
    "from sklearn.decomposition import PCA\n",
    "from sklearn.svm import SVC"
   ]
  },
  {
   "cell_type": "code",
   "execution_count": 20,
   "id": "e77c2a28",
   "metadata": {},
   "outputs": [],
   "source": [
    "steps=[(\"scaling\",StandardScaler()),\n",
    "      (\"PCA\",PCA(n_components=3)),\n",
    "      (\"SVC\",SVC())]\n",
    "\n",
    "#standardise-> then reduce features to 3 -> apply Support Vector classifier Method"
   ]
  },
  {
   "cell_type": "code",
   "execution_count": 21,
   "id": "a948f318",
   "metadata": {},
   "outputs": [],
   "source": [
    "pipe2=Pipeline(steps)"
   ]
  },
  {
   "cell_type": "code",
   "execution_count": 22,
   "id": "f79f44ad",
   "metadata": {},
   "outputs": [
    {
     "data": {
      "text/plain": [
       "array([[-0.75162989,  0.25666186, -1.41104438, ..., -0.92011082,\n",
       "         0.49204374, -1.22737481],\n",
       "       [-0.27628295, -0.56647286, -0.66783012, ...,  0.10631227,\n",
       "        -0.85263376, -0.16001875],\n",
       "       [-0.79719734, -0.91162467, -1.60700777, ...,  0.26303755,\n",
       "        -1.74085851, -0.14535315],\n",
       "       ...,\n",
       "       [ 1.76797412,  0.36831128,  0.51763242, ..., -0.31646583,\n",
       "         0.33555004, -2.16334309],\n",
       "       [ 0.28631288, -0.46609179, -0.22089446, ...,  0.77325874,\n",
       "        -0.71036208,  0.3378714 ],\n",
       "       [-1.37471863,  0.18993186,  1.35513055, ...,  1.06553363,\n",
       "        -1.9305706 , -0.02755251]])"
      ]
     },
     "execution_count": 22,
     "metadata": {},
     "output_type": "execute_result"
    }
   ],
   "source": [
    "# if I just want to apply standard scaling \n",
    "pipe2['scaling'].fit_transform(X_train)\n",
    "\n",
    "#only scaling is applied here."
   ]
  },
  {
   "cell_type": "code",
   "execution_count": 23,
   "id": "5fcb4d04",
   "metadata": {},
   "outputs": [
    {
     "data": {
      "text/html": [
       "<style>#sk-3b39685c-e1e3-45cd-99bb-ddcefd54ca6f {color: black;background-color: white;}#sk-3b39685c-e1e3-45cd-99bb-ddcefd54ca6f pre{padding: 0;}#sk-3b39685c-e1e3-45cd-99bb-ddcefd54ca6f div.sk-toggleable {background-color: white;}#sk-3b39685c-e1e3-45cd-99bb-ddcefd54ca6f label.sk-toggleable__label {cursor: pointer;display: block;width: 100%;margin-bottom: 0;padding: 0.3em;box-sizing: border-box;text-align: center;}#sk-3b39685c-e1e3-45cd-99bb-ddcefd54ca6f label.sk-toggleable__label-arrow:before {content: \"▸\";float: left;margin-right: 0.25em;color: #696969;}#sk-3b39685c-e1e3-45cd-99bb-ddcefd54ca6f label.sk-toggleable__label-arrow:hover:before {color: black;}#sk-3b39685c-e1e3-45cd-99bb-ddcefd54ca6f div.sk-estimator:hover label.sk-toggleable__label-arrow:before {color: black;}#sk-3b39685c-e1e3-45cd-99bb-ddcefd54ca6f div.sk-toggleable__content {max-height: 0;max-width: 0;overflow: hidden;text-align: left;background-color: #f0f8ff;}#sk-3b39685c-e1e3-45cd-99bb-ddcefd54ca6f div.sk-toggleable__content pre {margin: 0.2em;color: black;border-radius: 0.25em;background-color: #f0f8ff;}#sk-3b39685c-e1e3-45cd-99bb-ddcefd54ca6f input.sk-toggleable__control:checked~div.sk-toggleable__content {max-height: 200px;max-width: 100%;overflow: auto;}#sk-3b39685c-e1e3-45cd-99bb-ddcefd54ca6f input.sk-toggleable__control:checked~label.sk-toggleable__label-arrow:before {content: \"▾\";}#sk-3b39685c-e1e3-45cd-99bb-ddcefd54ca6f div.sk-estimator input.sk-toggleable__control:checked~label.sk-toggleable__label {background-color: #d4ebff;}#sk-3b39685c-e1e3-45cd-99bb-ddcefd54ca6f div.sk-label input.sk-toggleable__control:checked~label.sk-toggleable__label {background-color: #d4ebff;}#sk-3b39685c-e1e3-45cd-99bb-ddcefd54ca6f input.sk-hidden--visually {border: 0;clip: rect(1px 1px 1px 1px);clip: rect(1px, 1px, 1px, 1px);height: 1px;margin: -1px;overflow: hidden;padding: 0;position: absolute;width: 1px;}#sk-3b39685c-e1e3-45cd-99bb-ddcefd54ca6f div.sk-estimator {font-family: monospace;background-color: #f0f8ff;border: 1px dotted black;border-radius: 0.25em;box-sizing: border-box;margin-bottom: 0.5em;}#sk-3b39685c-e1e3-45cd-99bb-ddcefd54ca6f div.sk-estimator:hover {background-color: #d4ebff;}#sk-3b39685c-e1e3-45cd-99bb-ddcefd54ca6f div.sk-parallel-item::after {content: \"\";width: 100%;border-bottom: 1px solid gray;flex-grow: 1;}#sk-3b39685c-e1e3-45cd-99bb-ddcefd54ca6f div.sk-label:hover label.sk-toggleable__label {background-color: #d4ebff;}#sk-3b39685c-e1e3-45cd-99bb-ddcefd54ca6f div.sk-serial::before {content: \"\";position: absolute;border-left: 1px solid gray;box-sizing: border-box;top: 2em;bottom: 0;left: 50%;}#sk-3b39685c-e1e3-45cd-99bb-ddcefd54ca6f div.sk-serial {display: flex;flex-direction: column;align-items: center;background-color: white;padding-right: 0.2em;padding-left: 0.2em;}#sk-3b39685c-e1e3-45cd-99bb-ddcefd54ca6f div.sk-item {z-index: 1;}#sk-3b39685c-e1e3-45cd-99bb-ddcefd54ca6f div.sk-parallel {display: flex;align-items: stretch;justify-content: center;background-color: white;}#sk-3b39685c-e1e3-45cd-99bb-ddcefd54ca6f div.sk-parallel::before {content: \"\";position: absolute;border-left: 1px solid gray;box-sizing: border-box;top: 2em;bottom: 0;left: 50%;}#sk-3b39685c-e1e3-45cd-99bb-ddcefd54ca6f div.sk-parallel-item {display: flex;flex-direction: column;position: relative;background-color: white;}#sk-3b39685c-e1e3-45cd-99bb-ddcefd54ca6f div.sk-parallel-item:first-child::after {align-self: flex-end;width: 50%;}#sk-3b39685c-e1e3-45cd-99bb-ddcefd54ca6f div.sk-parallel-item:last-child::after {align-self: flex-start;width: 50%;}#sk-3b39685c-e1e3-45cd-99bb-ddcefd54ca6f div.sk-parallel-item:only-child::after {width: 0;}#sk-3b39685c-e1e3-45cd-99bb-ddcefd54ca6f div.sk-dashed-wrapped {border: 1px dashed gray;margin: 0 0.4em 0.5em 0.4em;box-sizing: border-box;padding-bottom: 0.4em;background-color: white;position: relative;}#sk-3b39685c-e1e3-45cd-99bb-ddcefd54ca6f div.sk-label label {font-family: monospace;font-weight: bold;background-color: white;display: inline-block;line-height: 1.2em;}#sk-3b39685c-e1e3-45cd-99bb-ddcefd54ca6f div.sk-label-container {position: relative;z-index: 2;text-align: center;}#sk-3b39685c-e1e3-45cd-99bb-ddcefd54ca6f div.sk-container {/* jupyter's `normalize.less` sets `[hidden] { display: none; }` but bootstrap.min.css set `[hidden] { display: none !important; }` so we also need the `!important` here to be able to override the default hidden behavior on the sphinx rendered scikit-learn.org. See: https://github.com/scikit-learn/scikit-learn/issues/21755 */display: inline-block !important;position: relative;}#sk-3b39685c-e1e3-45cd-99bb-ddcefd54ca6f div.sk-text-repr-fallback {display: none;}</style><div id=\"sk-3b39685c-e1e3-45cd-99bb-ddcefd54ca6f\" class=\"sk-top-container\"><div class=\"sk-text-repr-fallback\"><pre>Pipeline(steps=[(&#x27;scaling&#x27;, StandardScaler()), (&#x27;PCA&#x27;, PCA(n_components=3)),\n",
       "                (&#x27;SVC&#x27;, SVC())])</pre><b>Please rerun this cell to show the HTML repr or trust the notebook.</b></div><div class=\"sk-container\" hidden><div class=\"sk-item sk-dashed-wrapped\"><div class=\"sk-label-container\"><div class=\"sk-label sk-toggleable\"><input class=\"sk-toggleable__control sk-hidden--visually\" id=\"e77caa1d-fbf6-4c97-af68-4078e8b84581\" type=\"checkbox\" ><label for=\"e77caa1d-fbf6-4c97-af68-4078e8b84581\" class=\"sk-toggleable__label sk-toggleable__label-arrow\">Pipeline</label><div class=\"sk-toggleable__content\"><pre>Pipeline(steps=[(&#x27;scaling&#x27;, StandardScaler()), (&#x27;PCA&#x27;, PCA(n_components=3)),\n",
       "                (&#x27;SVC&#x27;, SVC())])</pre></div></div></div><div class=\"sk-serial\"><div class=\"sk-item\"><div class=\"sk-estimator sk-toggleable\"><input class=\"sk-toggleable__control sk-hidden--visually\" id=\"54ef7467-3796-4df8-88dd-71d096753e6f\" type=\"checkbox\" ><label for=\"54ef7467-3796-4df8-88dd-71d096753e6f\" class=\"sk-toggleable__label sk-toggleable__label-arrow\">StandardScaler</label><div class=\"sk-toggleable__content\"><pre>StandardScaler()</pre></div></div></div><div class=\"sk-item\"><div class=\"sk-estimator sk-toggleable\"><input class=\"sk-toggleable__control sk-hidden--visually\" id=\"d94db4ed-85bc-4153-a050-8e0bc4ebcbdd\" type=\"checkbox\" ><label for=\"d94db4ed-85bc-4153-a050-8e0bc4ebcbdd\" class=\"sk-toggleable__label sk-toggleable__label-arrow\">PCA</label><div class=\"sk-toggleable__content\"><pre>PCA(n_components=3)</pre></div></div></div><div class=\"sk-item\"><div class=\"sk-estimator sk-toggleable\"><input class=\"sk-toggleable__control sk-hidden--visually\" id=\"7ad9ab9d-be5a-48a1-8b00-2375e64281d7\" type=\"checkbox\" ><label for=\"7ad9ab9d-be5a-48a1-8b00-2375e64281d7\" class=\"sk-toggleable__label sk-toggleable__label-arrow\">SVC</label><div class=\"sk-toggleable__content\"><pre>SVC()</pre></div></div></div></div></div></div></div>"
      ],
      "text/plain": [
       "Pipeline(steps=[('scaling', StandardScaler()), ('PCA', PCA(n_components=3)),\n",
       "                ('SVC', SVC())])"
      ]
     },
     "execution_count": 23,
     "metadata": {},
     "output_type": "execute_result"
    }
   ],
   "source": [
    "#instead of applying techniqies one by one\n",
    "pipe2.fit(X_train,y_train)"
   ]
  },
  {
   "cell_type": "code",
   "execution_count": 24,
   "id": "34dcb42e",
   "metadata": {},
   "outputs": [
    {
     "data": {
      "text/plain": [
       "array([1, 1, 0, 1, 0, 0, 0, 1, 0, 0, 1, 0, 1, 0, 1, 1, 0, 1, 1, 0, 0, 1,\n",
       "       1, 1, 1, 0, 0, 0, 1, 1, 0, 0, 1, 1, 0, 0, 1, 1, 0, 0, 1, 1, 1, 0,\n",
       "       0, 0, 0, 0, 1, 1, 0, 0, 1, 0, 1, 1, 0, 1, 1, 1, 0, 1, 1, 1, 0, 0,\n",
       "       0, 0, 1, 1, 1, 1, 0, 1, 1, 1, 0, 1, 0, 0, 1, 1, 1, 1, 1, 0, 1, 1,\n",
       "       0, 0, 1, 1, 1, 0, 1, 0, 1, 1, 1, 1, 1, 1, 0, 0, 1, 1, 1, 1, 1, 1,\n",
       "       1, 1, 1, 1, 0, 0, 0, 1, 0, 0, 0, 1, 0, 1, 1, 1, 0, 1, 0, 0, 1, 1,\n",
       "       0, 0, 0, 1, 0, 0, 0, 1, 0, 0, 1, 1, 0, 0, 1, 0, 1, 0, 0, 0, 0, 1,\n",
       "       1, 1, 0, 1, 0, 1, 1, 1, 1, 1, 1, 0, 1, 0, 0, 1, 1, 0, 1, 0, 0, 0,\n",
       "       1, 1, 1, 0, 1, 1, 0, 0, 0, 0, 1, 0, 1, 0, 1, 0, 1, 1, 1, 0, 1, 1,\n",
       "       1, 1, 1, 1, 1, 0, 1, 1, 1, 1, 0, 0, 1, 0, 0, 1, 1, 1, 1, 0, 0, 0,\n",
       "       1, 0, 1, 1, 1, 0, 0, 1, 0, 1, 1, 0, 1, 0, 1, 1, 1, 1, 1, 1, 0, 0,\n",
       "       1, 1, 0, 1, 0, 1, 1, 1, 1, 1, 1, 1, 0, 1, 0, 1, 1, 0, 0, 0, 0, 0,\n",
       "       0, 1, 0, 1, 0, 1, 1, 1, 0, 0, 1, 1, 0, 1, 0, 1, 0, 1, 0, 1, 1, 0,\n",
       "       1, 0, 1, 1, 1, 0, 1, 1, 1, 0, 0, 0, 0, 1, 0, 0, 1, 1, 0, 0, 0, 1,\n",
       "       1, 0, 0, 0, 1, 0, 1, 1, 1, 0, 1, 0, 0, 0, 1, 1, 1, 0, 1, 0, 0, 1])"
      ]
     },
     "execution_count": 24,
     "metadata": {},
     "output_type": "execute_result"
    }
   ],
   "source": [
    "pipe2.predict(X_test)"
   ]
  },
  {
   "cell_type": "markdown",
   "id": "5dfce91c",
   "metadata": {},
   "source": [
    "### Column transformation using pipleline (imp)\n",
    "- This handles missing values before applying other techniques in pipeline.\n",
    "- Imputer: using imputer fill out missing value\n",
    "- Apply scaling technique\n",
    "\n",
    "\n",
    "#### Steps\n",
    "1. Handling missing value\n",
    "2. Handling numeric data\n",
    "3. Handling categorical data.\n",
    "4. Combining both numeric and categorical data "
   ]
  },
  {
   "cell_type": "code",
   "execution_count": 25,
   "id": "be7ac169",
   "metadata": {},
   "outputs": [],
   "source": [
    "from sklearn.impute import SimpleImputer\n",
    "import numpy as np"
   ]
  },
  {
   "cell_type": "code",
   "execution_count": 26,
   "id": "5ab177eb",
   "metadata": {},
   "outputs": [],
   "source": [
    "# pipeline to handle numeric data: replacing missing value with mean\n",
    "\n",
    "numeric_processor=Pipeline(\n",
    "    steps=[(\"imputation_mean\",SimpleImputer(missing_values=np.nan,strategy=\"mean\")),\n",
    "          (\"scaler\",StandardScaler())]\n",
    "\n",
    ")"
   ]
  },
  {
   "cell_type": "code",
   "execution_count": 27,
   "id": "988892d2",
   "metadata": {},
   "outputs": [
    {
     "data": {
      "text/html": [
       "<style>#sk-c103da50-e8f2-4f27-9847-87ffd5be4057 {color: black;background-color: white;}#sk-c103da50-e8f2-4f27-9847-87ffd5be4057 pre{padding: 0;}#sk-c103da50-e8f2-4f27-9847-87ffd5be4057 div.sk-toggleable {background-color: white;}#sk-c103da50-e8f2-4f27-9847-87ffd5be4057 label.sk-toggleable__label {cursor: pointer;display: block;width: 100%;margin-bottom: 0;padding: 0.3em;box-sizing: border-box;text-align: center;}#sk-c103da50-e8f2-4f27-9847-87ffd5be4057 label.sk-toggleable__label-arrow:before {content: \"▸\";float: left;margin-right: 0.25em;color: #696969;}#sk-c103da50-e8f2-4f27-9847-87ffd5be4057 label.sk-toggleable__label-arrow:hover:before {color: black;}#sk-c103da50-e8f2-4f27-9847-87ffd5be4057 div.sk-estimator:hover label.sk-toggleable__label-arrow:before {color: black;}#sk-c103da50-e8f2-4f27-9847-87ffd5be4057 div.sk-toggleable__content {max-height: 0;max-width: 0;overflow: hidden;text-align: left;background-color: #f0f8ff;}#sk-c103da50-e8f2-4f27-9847-87ffd5be4057 div.sk-toggleable__content pre {margin: 0.2em;color: black;border-radius: 0.25em;background-color: #f0f8ff;}#sk-c103da50-e8f2-4f27-9847-87ffd5be4057 input.sk-toggleable__control:checked~div.sk-toggleable__content {max-height: 200px;max-width: 100%;overflow: auto;}#sk-c103da50-e8f2-4f27-9847-87ffd5be4057 input.sk-toggleable__control:checked~label.sk-toggleable__label-arrow:before {content: \"▾\";}#sk-c103da50-e8f2-4f27-9847-87ffd5be4057 div.sk-estimator input.sk-toggleable__control:checked~label.sk-toggleable__label {background-color: #d4ebff;}#sk-c103da50-e8f2-4f27-9847-87ffd5be4057 div.sk-label input.sk-toggleable__control:checked~label.sk-toggleable__label {background-color: #d4ebff;}#sk-c103da50-e8f2-4f27-9847-87ffd5be4057 input.sk-hidden--visually {border: 0;clip: rect(1px 1px 1px 1px);clip: rect(1px, 1px, 1px, 1px);height: 1px;margin: -1px;overflow: hidden;padding: 0;position: absolute;width: 1px;}#sk-c103da50-e8f2-4f27-9847-87ffd5be4057 div.sk-estimator {font-family: monospace;background-color: #f0f8ff;border: 1px dotted black;border-radius: 0.25em;box-sizing: border-box;margin-bottom: 0.5em;}#sk-c103da50-e8f2-4f27-9847-87ffd5be4057 div.sk-estimator:hover {background-color: #d4ebff;}#sk-c103da50-e8f2-4f27-9847-87ffd5be4057 div.sk-parallel-item::after {content: \"\";width: 100%;border-bottom: 1px solid gray;flex-grow: 1;}#sk-c103da50-e8f2-4f27-9847-87ffd5be4057 div.sk-label:hover label.sk-toggleable__label {background-color: #d4ebff;}#sk-c103da50-e8f2-4f27-9847-87ffd5be4057 div.sk-serial::before {content: \"\";position: absolute;border-left: 1px solid gray;box-sizing: border-box;top: 2em;bottom: 0;left: 50%;}#sk-c103da50-e8f2-4f27-9847-87ffd5be4057 div.sk-serial {display: flex;flex-direction: column;align-items: center;background-color: white;padding-right: 0.2em;padding-left: 0.2em;}#sk-c103da50-e8f2-4f27-9847-87ffd5be4057 div.sk-item {z-index: 1;}#sk-c103da50-e8f2-4f27-9847-87ffd5be4057 div.sk-parallel {display: flex;align-items: stretch;justify-content: center;background-color: white;}#sk-c103da50-e8f2-4f27-9847-87ffd5be4057 div.sk-parallel::before {content: \"\";position: absolute;border-left: 1px solid gray;box-sizing: border-box;top: 2em;bottom: 0;left: 50%;}#sk-c103da50-e8f2-4f27-9847-87ffd5be4057 div.sk-parallel-item {display: flex;flex-direction: column;position: relative;background-color: white;}#sk-c103da50-e8f2-4f27-9847-87ffd5be4057 div.sk-parallel-item:first-child::after {align-self: flex-end;width: 50%;}#sk-c103da50-e8f2-4f27-9847-87ffd5be4057 div.sk-parallel-item:last-child::after {align-self: flex-start;width: 50%;}#sk-c103da50-e8f2-4f27-9847-87ffd5be4057 div.sk-parallel-item:only-child::after {width: 0;}#sk-c103da50-e8f2-4f27-9847-87ffd5be4057 div.sk-dashed-wrapped {border: 1px dashed gray;margin: 0 0.4em 0.5em 0.4em;box-sizing: border-box;padding-bottom: 0.4em;background-color: white;position: relative;}#sk-c103da50-e8f2-4f27-9847-87ffd5be4057 div.sk-label label {font-family: monospace;font-weight: bold;background-color: white;display: inline-block;line-height: 1.2em;}#sk-c103da50-e8f2-4f27-9847-87ffd5be4057 div.sk-label-container {position: relative;z-index: 2;text-align: center;}#sk-c103da50-e8f2-4f27-9847-87ffd5be4057 div.sk-container {/* jupyter's `normalize.less` sets `[hidden] { display: none; }` but bootstrap.min.css set `[hidden] { display: none !important; }` so we also need the `!important` here to be able to override the default hidden behavior on the sphinx rendered scikit-learn.org. See: https://github.com/scikit-learn/scikit-learn/issues/21755 */display: inline-block !important;position: relative;}#sk-c103da50-e8f2-4f27-9847-87ffd5be4057 div.sk-text-repr-fallback {display: none;}</style><div id=\"sk-c103da50-e8f2-4f27-9847-87ffd5be4057\" class=\"sk-top-container\"><div class=\"sk-text-repr-fallback\"><pre>Pipeline(steps=[(&#x27;imputation_mean&#x27;, SimpleImputer()),\n",
       "                (&#x27;scaler&#x27;, StandardScaler())])</pre><b>Please rerun this cell to show the HTML repr or trust the notebook.</b></div><div class=\"sk-container\" hidden><div class=\"sk-item sk-dashed-wrapped\"><div class=\"sk-label-container\"><div class=\"sk-label sk-toggleable\"><input class=\"sk-toggleable__control sk-hidden--visually\" id=\"e260c8ee-35c9-4b92-a6d5-9b8eb9d6710d\" type=\"checkbox\" ><label for=\"e260c8ee-35c9-4b92-a6d5-9b8eb9d6710d\" class=\"sk-toggleable__label sk-toggleable__label-arrow\">Pipeline</label><div class=\"sk-toggleable__content\"><pre>Pipeline(steps=[(&#x27;imputation_mean&#x27;, SimpleImputer()),\n",
       "                (&#x27;scaler&#x27;, StandardScaler())])</pre></div></div></div><div class=\"sk-serial\"><div class=\"sk-item\"><div class=\"sk-estimator sk-toggleable\"><input class=\"sk-toggleable__control sk-hidden--visually\" id=\"ce8420cb-b612-461b-8cff-2cc8186d975c\" type=\"checkbox\" ><label for=\"ce8420cb-b612-461b-8cff-2cc8186d975c\" class=\"sk-toggleable__label sk-toggleable__label-arrow\">SimpleImputer</label><div class=\"sk-toggleable__content\"><pre>SimpleImputer()</pre></div></div></div><div class=\"sk-item\"><div class=\"sk-estimator sk-toggleable\"><input class=\"sk-toggleable__control sk-hidden--visually\" id=\"4ae84ebe-8aed-42a4-8b0f-22893d8f4bbb\" type=\"checkbox\" ><label for=\"4ae84ebe-8aed-42a4-8b0f-22893d8f4bbb\" class=\"sk-toggleable__label sk-toggleable__label-arrow\">StandardScaler</label><div class=\"sk-toggleable__content\"><pre>StandardScaler()</pre></div></div></div></div></div></div></div>"
      ],
      "text/plain": [
       "Pipeline(steps=[('imputation_mean', SimpleImputer()),\n",
       "                ('scaler', StandardScaler())])"
      ]
     },
     "execution_count": 27,
     "metadata": {},
     "output_type": "execute_result"
    }
   ],
   "source": [
    "numeric_processor"
   ]
  },
  {
   "cell_type": "code",
   "execution_count": 28,
   "id": "4218b3e3",
   "metadata": {},
   "outputs": [],
   "source": [
    "# impute for categorical data-> for missing values replace with word \"constant\"(or missing)\n",
    "# apply one hot encoding to replace category. \n",
    "\n",
    "from sklearn.preprocessing import OneHotEncoder\n",
    "categorical_processor=Pipeline(\n",
    "    steps=[(\"imputation_constant\",SimpleImputer(fill_value=\"missing\",strategy=\"constant\")),\n",
    "          (\"onehot\",OneHotEncoder(handle_unknown=\"ignore\"))]\n",
    "\n",
    ")"
   ]
  },
  {
   "cell_type": "code",
   "execution_count": 29,
   "id": "d11564b8",
   "metadata": {},
   "outputs": [
    {
     "data": {
      "text/html": [
       "<style>#sk-dd7baa82-e6ef-4bea-85c1-44394f432354 {color: black;background-color: white;}#sk-dd7baa82-e6ef-4bea-85c1-44394f432354 pre{padding: 0;}#sk-dd7baa82-e6ef-4bea-85c1-44394f432354 div.sk-toggleable {background-color: white;}#sk-dd7baa82-e6ef-4bea-85c1-44394f432354 label.sk-toggleable__label {cursor: pointer;display: block;width: 100%;margin-bottom: 0;padding: 0.3em;box-sizing: border-box;text-align: center;}#sk-dd7baa82-e6ef-4bea-85c1-44394f432354 label.sk-toggleable__label-arrow:before {content: \"▸\";float: left;margin-right: 0.25em;color: #696969;}#sk-dd7baa82-e6ef-4bea-85c1-44394f432354 label.sk-toggleable__label-arrow:hover:before {color: black;}#sk-dd7baa82-e6ef-4bea-85c1-44394f432354 div.sk-estimator:hover label.sk-toggleable__label-arrow:before {color: black;}#sk-dd7baa82-e6ef-4bea-85c1-44394f432354 div.sk-toggleable__content {max-height: 0;max-width: 0;overflow: hidden;text-align: left;background-color: #f0f8ff;}#sk-dd7baa82-e6ef-4bea-85c1-44394f432354 div.sk-toggleable__content pre {margin: 0.2em;color: black;border-radius: 0.25em;background-color: #f0f8ff;}#sk-dd7baa82-e6ef-4bea-85c1-44394f432354 input.sk-toggleable__control:checked~div.sk-toggleable__content {max-height: 200px;max-width: 100%;overflow: auto;}#sk-dd7baa82-e6ef-4bea-85c1-44394f432354 input.sk-toggleable__control:checked~label.sk-toggleable__label-arrow:before {content: \"▾\";}#sk-dd7baa82-e6ef-4bea-85c1-44394f432354 div.sk-estimator input.sk-toggleable__control:checked~label.sk-toggleable__label {background-color: #d4ebff;}#sk-dd7baa82-e6ef-4bea-85c1-44394f432354 div.sk-label input.sk-toggleable__control:checked~label.sk-toggleable__label {background-color: #d4ebff;}#sk-dd7baa82-e6ef-4bea-85c1-44394f432354 input.sk-hidden--visually {border: 0;clip: rect(1px 1px 1px 1px);clip: rect(1px, 1px, 1px, 1px);height: 1px;margin: -1px;overflow: hidden;padding: 0;position: absolute;width: 1px;}#sk-dd7baa82-e6ef-4bea-85c1-44394f432354 div.sk-estimator {font-family: monospace;background-color: #f0f8ff;border: 1px dotted black;border-radius: 0.25em;box-sizing: border-box;margin-bottom: 0.5em;}#sk-dd7baa82-e6ef-4bea-85c1-44394f432354 div.sk-estimator:hover {background-color: #d4ebff;}#sk-dd7baa82-e6ef-4bea-85c1-44394f432354 div.sk-parallel-item::after {content: \"\";width: 100%;border-bottom: 1px solid gray;flex-grow: 1;}#sk-dd7baa82-e6ef-4bea-85c1-44394f432354 div.sk-label:hover label.sk-toggleable__label {background-color: #d4ebff;}#sk-dd7baa82-e6ef-4bea-85c1-44394f432354 div.sk-serial::before {content: \"\";position: absolute;border-left: 1px solid gray;box-sizing: border-box;top: 2em;bottom: 0;left: 50%;}#sk-dd7baa82-e6ef-4bea-85c1-44394f432354 div.sk-serial {display: flex;flex-direction: column;align-items: center;background-color: white;padding-right: 0.2em;padding-left: 0.2em;}#sk-dd7baa82-e6ef-4bea-85c1-44394f432354 div.sk-item {z-index: 1;}#sk-dd7baa82-e6ef-4bea-85c1-44394f432354 div.sk-parallel {display: flex;align-items: stretch;justify-content: center;background-color: white;}#sk-dd7baa82-e6ef-4bea-85c1-44394f432354 div.sk-parallel::before {content: \"\";position: absolute;border-left: 1px solid gray;box-sizing: border-box;top: 2em;bottom: 0;left: 50%;}#sk-dd7baa82-e6ef-4bea-85c1-44394f432354 div.sk-parallel-item {display: flex;flex-direction: column;position: relative;background-color: white;}#sk-dd7baa82-e6ef-4bea-85c1-44394f432354 div.sk-parallel-item:first-child::after {align-self: flex-end;width: 50%;}#sk-dd7baa82-e6ef-4bea-85c1-44394f432354 div.sk-parallel-item:last-child::after {align-self: flex-start;width: 50%;}#sk-dd7baa82-e6ef-4bea-85c1-44394f432354 div.sk-parallel-item:only-child::after {width: 0;}#sk-dd7baa82-e6ef-4bea-85c1-44394f432354 div.sk-dashed-wrapped {border: 1px dashed gray;margin: 0 0.4em 0.5em 0.4em;box-sizing: border-box;padding-bottom: 0.4em;background-color: white;position: relative;}#sk-dd7baa82-e6ef-4bea-85c1-44394f432354 div.sk-label label {font-family: monospace;font-weight: bold;background-color: white;display: inline-block;line-height: 1.2em;}#sk-dd7baa82-e6ef-4bea-85c1-44394f432354 div.sk-label-container {position: relative;z-index: 2;text-align: center;}#sk-dd7baa82-e6ef-4bea-85c1-44394f432354 div.sk-container {/* jupyter's `normalize.less` sets `[hidden] { display: none; }` but bootstrap.min.css set `[hidden] { display: none !important; }` so we also need the `!important` here to be able to override the default hidden behavior on the sphinx rendered scikit-learn.org. See: https://github.com/scikit-learn/scikit-learn/issues/21755 */display: inline-block !important;position: relative;}#sk-dd7baa82-e6ef-4bea-85c1-44394f432354 div.sk-text-repr-fallback {display: none;}</style><div id=\"sk-dd7baa82-e6ef-4bea-85c1-44394f432354\" class=\"sk-top-container\"><div class=\"sk-text-repr-fallback\"><pre>Pipeline(steps=[(&#x27;imputation_constant&#x27;,\n",
       "                 SimpleImputer(fill_value=&#x27;missing&#x27;, strategy=&#x27;constant&#x27;)),\n",
       "                (&#x27;onehot&#x27;, OneHotEncoder(handle_unknown=&#x27;ignore&#x27;))])</pre><b>Please rerun this cell to show the HTML repr or trust the notebook.</b></div><div class=\"sk-container\" hidden><div class=\"sk-item sk-dashed-wrapped\"><div class=\"sk-label-container\"><div class=\"sk-label sk-toggleable\"><input class=\"sk-toggleable__control sk-hidden--visually\" id=\"3b45431e-ae88-45a1-a143-45e53158f740\" type=\"checkbox\" ><label for=\"3b45431e-ae88-45a1-a143-45e53158f740\" class=\"sk-toggleable__label sk-toggleable__label-arrow\">Pipeline</label><div class=\"sk-toggleable__content\"><pre>Pipeline(steps=[(&#x27;imputation_constant&#x27;,\n",
       "                 SimpleImputer(fill_value=&#x27;missing&#x27;, strategy=&#x27;constant&#x27;)),\n",
       "                (&#x27;onehot&#x27;, OneHotEncoder(handle_unknown=&#x27;ignore&#x27;))])</pre></div></div></div><div class=\"sk-serial\"><div class=\"sk-item\"><div class=\"sk-estimator sk-toggleable\"><input class=\"sk-toggleable__control sk-hidden--visually\" id=\"880f82aa-67c3-42e5-976d-91a086391f9d\" type=\"checkbox\" ><label for=\"880f82aa-67c3-42e5-976d-91a086391f9d\" class=\"sk-toggleable__label sk-toggleable__label-arrow\">SimpleImputer</label><div class=\"sk-toggleable__content\"><pre>SimpleImputer(fill_value=&#x27;missing&#x27;, strategy=&#x27;constant&#x27;)</pre></div></div></div><div class=\"sk-item\"><div class=\"sk-estimator sk-toggleable\"><input class=\"sk-toggleable__control sk-hidden--visually\" id=\"3a871833-ee0e-4a0e-b83c-af69733bbae1\" type=\"checkbox\" ><label for=\"3a871833-ee0e-4a0e-b83c-af69733bbae1\" class=\"sk-toggleable__label sk-toggleable__label-arrow\">OneHotEncoder</label><div class=\"sk-toggleable__content\"><pre>OneHotEncoder(handle_unknown=&#x27;ignore&#x27;)</pre></div></div></div></div></div></div></div>"
      ],
      "text/plain": [
       "Pipeline(steps=[('imputation_constant',\n",
       "                 SimpleImputer(fill_value='missing', strategy='constant')),\n",
       "                ('onehot', OneHotEncoder(handle_unknown='ignore'))])"
      ]
     },
     "execution_count": 29,
     "metadata": {},
     "output_type": "execute_result"
    }
   ],
   "source": [
    "categorical_processor"
   ]
  },
  {
   "cell_type": "markdown",
   "id": "8c1b7112",
   "metadata": {},
   "source": [
    "### to combine both processor, use ColumnTransformer()\n",
    "- All steps in piplines are mentioned in ColumnTransformer()\n",
    "- This transforms all the columns which are mentioned inside\n",
    "- For instance, I have passed gender, city which is categorical data and age, height which are numerica data. \n",
    "- syntax= ColumnTransformer(List of [(name, transformer, columns)]\n",
    "- These data is transformed\n",
    "- Now I need to apply estimator on this transformation"
   ]
  },
  {
   "cell_type": "code",
   "execution_count": 30,
   "id": "6add812b",
   "metadata": {},
   "outputs": [],
   "source": [
    "#sklearn.compose.ColumnTransformer¶\n",
    "from sklearn.compose import ColumnTransformer"
   ]
  },
  {
   "cell_type": "code",
   "execution_count": 31,
   "id": "4bf31744",
   "metadata": {},
   "outputs": [],
   "source": [
    "preprocessor= ColumnTransformer(\n",
    "    [(\"categorical\",categorical_processor,['gender','city']),\n",
    "    (\"numerical\",numeric_processor, ['age','height'])]\n",
    ")"
   ]
  },
  {
   "cell_type": "code",
   "execution_count": 32,
   "id": "c6e0cb81",
   "metadata": {},
   "outputs": [
    {
     "data": {
      "text/html": [
       "<style>#sk-8372ac05-4347-4931-9532-cd711d7bba29 {color: black;background-color: white;}#sk-8372ac05-4347-4931-9532-cd711d7bba29 pre{padding: 0;}#sk-8372ac05-4347-4931-9532-cd711d7bba29 div.sk-toggleable {background-color: white;}#sk-8372ac05-4347-4931-9532-cd711d7bba29 label.sk-toggleable__label {cursor: pointer;display: block;width: 100%;margin-bottom: 0;padding: 0.3em;box-sizing: border-box;text-align: center;}#sk-8372ac05-4347-4931-9532-cd711d7bba29 label.sk-toggleable__label-arrow:before {content: \"▸\";float: left;margin-right: 0.25em;color: #696969;}#sk-8372ac05-4347-4931-9532-cd711d7bba29 label.sk-toggleable__label-arrow:hover:before {color: black;}#sk-8372ac05-4347-4931-9532-cd711d7bba29 div.sk-estimator:hover label.sk-toggleable__label-arrow:before {color: black;}#sk-8372ac05-4347-4931-9532-cd711d7bba29 div.sk-toggleable__content {max-height: 0;max-width: 0;overflow: hidden;text-align: left;background-color: #f0f8ff;}#sk-8372ac05-4347-4931-9532-cd711d7bba29 div.sk-toggleable__content pre {margin: 0.2em;color: black;border-radius: 0.25em;background-color: #f0f8ff;}#sk-8372ac05-4347-4931-9532-cd711d7bba29 input.sk-toggleable__control:checked~div.sk-toggleable__content {max-height: 200px;max-width: 100%;overflow: auto;}#sk-8372ac05-4347-4931-9532-cd711d7bba29 input.sk-toggleable__control:checked~label.sk-toggleable__label-arrow:before {content: \"▾\";}#sk-8372ac05-4347-4931-9532-cd711d7bba29 div.sk-estimator input.sk-toggleable__control:checked~label.sk-toggleable__label {background-color: #d4ebff;}#sk-8372ac05-4347-4931-9532-cd711d7bba29 div.sk-label input.sk-toggleable__control:checked~label.sk-toggleable__label {background-color: #d4ebff;}#sk-8372ac05-4347-4931-9532-cd711d7bba29 input.sk-hidden--visually {border: 0;clip: rect(1px 1px 1px 1px);clip: rect(1px, 1px, 1px, 1px);height: 1px;margin: -1px;overflow: hidden;padding: 0;position: absolute;width: 1px;}#sk-8372ac05-4347-4931-9532-cd711d7bba29 div.sk-estimator {font-family: monospace;background-color: #f0f8ff;border: 1px dotted black;border-radius: 0.25em;box-sizing: border-box;margin-bottom: 0.5em;}#sk-8372ac05-4347-4931-9532-cd711d7bba29 div.sk-estimator:hover {background-color: #d4ebff;}#sk-8372ac05-4347-4931-9532-cd711d7bba29 div.sk-parallel-item::after {content: \"\";width: 100%;border-bottom: 1px solid gray;flex-grow: 1;}#sk-8372ac05-4347-4931-9532-cd711d7bba29 div.sk-label:hover label.sk-toggleable__label {background-color: #d4ebff;}#sk-8372ac05-4347-4931-9532-cd711d7bba29 div.sk-serial::before {content: \"\";position: absolute;border-left: 1px solid gray;box-sizing: border-box;top: 2em;bottom: 0;left: 50%;}#sk-8372ac05-4347-4931-9532-cd711d7bba29 div.sk-serial {display: flex;flex-direction: column;align-items: center;background-color: white;padding-right: 0.2em;padding-left: 0.2em;}#sk-8372ac05-4347-4931-9532-cd711d7bba29 div.sk-item {z-index: 1;}#sk-8372ac05-4347-4931-9532-cd711d7bba29 div.sk-parallel {display: flex;align-items: stretch;justify-content: center;background-color: white;}#sk-8372ac05-4347-4931-9532-cd711d7bba29 div.sk-parallel::before {content: \"\";position: absolute;border-left: 1px solid gray;box-sizing: border-box;top: 2em;bottom: 0;left: 50%;}#sk-8372ac05-4347-4931-9532-cd711d7bba29 div.sk-parallel-item {display: flex;flex-direction: column;position: relative;background-color: white;}#sk-8372ac05-4347-4931-9532-cd711d7bba29 div.sk-parallel-item:first-child::after {align-self: flex-end;width: 50%;}#sk-8372ac05-4347-4931-9532-cd711d7bba29 div.sk-parallel-item:last-child::after {align-self: flex-start;width: 50%;}#sk-8372ac05-4347-4931-9532-cd711d7bba29 div.sk-parallel-item:only-child::after {width: 0;}#sk-8372ac05-4347-4931-9532-cd711d7bba29 div.sk-dashed-wrapped {border: 1px dashed gray;margin: 0 0.4em 0.5em 0.4em;box-sizing: border-box;padding-bottom: 0.4em;background-color: white;position: relative;}#sk-8372ac05-4347-4931-9532-cd711d7bba29 div.sk-label label {font-family: monospace;font-weight: bold;background-color: white;display: inline-block;line-height: 1.2em;}#sk-8372ac05-4347-4931-9532-cd711d7bba29 div.sk-label-container {position: relative;z-index: 2;text-align: center;}#sk-8372ac05-4347-4931-9532-cd711d7bba29 div.sk-container {/* jupyter's `normalize.less` sets `[hidden] { display: none; }` but bootstrap.min.css set `[hidden] { display: none !important; }` so we also need the `!important` here to be able to override the default hidden behavior on the sphinx rendered scikit-learn.org. See: https://github.com/scikit-learn/scikit-learn/issues/21755 */display: inline-block !important;position: relative;}#sk-8372ac05-4347-4931-9532-cd711d7bba29 div.sk-text-repr-fallback {display: none;}</style><div id=\"sk-8372ac05-4347-4931-9532-cd711d7bba29\" class=\"sk-top-container\"><div class=\"sk-text-repr-fallback\"><pre>ColumnTransformer(transformers=[(&#x27;categorical&#x27;,\n",
       "                                 Pipeline(steps=[(&#x27;imputation_constant&#x27;,\n",
       "                                                  SimpleImputer(fill_value=&#x27;missing&#x27;,\n",
       "                                                                strategy=&#x27;constant&#x27;)),\n",
       "                                                 (&#x27;onehot&#x27;,\n",
       "                                                  OneHotEncoder(handle_unknown=&#x27;ignore&#x27;))]),\n",
       "                                 [&#x27;gender&#x27;, &#x27;city&#x27;]),\n",
       "                                (&#x27;numerical&#x27;,\n",
       "                                 Pipeline(steps=[(&#x27;imputation_mean&#x27;,\n",
       "                                                  SimpleImputer()),\n",
       "                                                 (&#x27;scaler&#x27;, StandardScaler())]),\n",
       "                                 [&#x27;age&#x27;, &#x27;height&#x27;])])</pre><b>Please rerun this cell to show the HTML repr or trust the notebook.</b></div><div class=\"sk-container\" hidden><div class=\"sk-item sk-dashed-wrapped\"><div class=\"sk-label-container\"><div class=\"sk-label sk-toggleable\"><input class=\"sk-toggleable__control sk-hidden--visually\" id=\"5d992b0d-c06a-4945-86c0-ab3adaf8235c\" type=\"checkbox\" ><label for=\"5d992b0d-c06a-4945-86c0-ab3adaf8235c\" class=\"sk-toggleable__label sk-toggleable__label-arrow\">ColumnTransformer</label><div class=\"sk-toggleable__content\"><pre>ColumnTransformer(transformers=[(&#x27;categorical&#x27;,\n",
       "                                 Pipeline(steps=[(&#x27;imputation_constant&#x27;,\n",
       "                                                  SimpleImputer(fill_value=&#x27;missing&#x27;,\n",
       "                                                                strategy=&#x27;constant&#x27;)),\n",
       "                                                 (&#x27;onehot&#x27;,\n",
       "                                                  OneHotEncoder(handle_unknown=&#x27;ignore&#x27;))]),\n",
       "                                 [&#x27;gender&#x27;, &#x27;city&#x27;]),\n",
       "                                (&#x27;numerical&#x27;,\n",
       "                                 Pipeline(steps=[(&#x27;imputation_mean&#x27;,\n",
       "                                                  SimpleImputer()),\n",
       "                                                 (&#x27;scaler&#x27;, StandardScaler())]),\n",
       "                                 [&#x27;age&#x27;, &#x27;height&#x27;])])</pre></div></div></div><div class=\"sk-parallel\"><div class=\"sk-parallel-item\"><div class=\"sk-item\"><div class=\"sk-label-container\"><div class=\"sk-label sk-toggleable\"><input class=\"sk-toggleable__control sk-hidden--visually\" id=\"3743abef-1196-4d9f-9e96-c14bd7a193b1\" type=\"checkbox\" ><label for=\"3743abef-1196-4d9f-9e96-c14bd7a193b1\" class=\"sk-toggleable__label sk-toggleable__label-arrow\">categorical</label><div class=\"sk-toggleable__content\"><pre>[&#x27;gender&#x27;, &#x27;city&#x27;]</pre></div></div></div><div class=\"sk-serial\"><div class=\"sk-item\"><div class=\"sk-serial\"><div class=\"sk-item\"><div class=\"sk-estimator sk-toggleable\"><input class=\"sk-toggleable__control sk-hidden--visually\" id=\"8e4b3a10-dc72-40a9-935f-ea39c6a7ca2a\" type=\"checkbox\" ><label for=\"8e4b3a10-dc72-40a9-935f-ea39c6a7ca2a\" class=\"sk-toggleable__label sk-toggleable__label-arrow\">SimpleImputer</label><div class=\"sk-toggleable__content\"><pre>SimpleImputer(fill_value=&#x27;missing&#x27;, strategy=&#x27;constant&#x27;)</pre></div></div></div><div class=\"sk-item\"><div class=\"sk-estimator sk-toggleable\"><input class=\"sk-toggleable__control sk-hidden--visually\" id=\"051a412c-3d93-459f-b8df-fa96aa4e1e3a\" type=\"checkbox\" ><label for=\"051a412c-3d93-459f-b8df-fa96aa4e1e3a\" class=\"sk-toggleable__label sk-toggleable__label-arrow\">OneHotEncoder</label><div class=\"sk-toggleable__content\"><pre>OneHotEncoder(handle_unknown=&#x27;ignore&#x27;)</pre></div></div></div></div></div></div></div></div><div class=\"sk-parallel-item\"><div class=\"sk-item\"><div class=\"sk-label-container\"><div class=\"sk-label sk-toggleable\"><input class=\"sk-toggleable__control sk-hidden--visually\" id=\"f35011e6-9689-41ee-b6d2-52d74e1e1274\" type=\"checkbox\" ><label for=\"f35011e6-9689-41ee-b6d2-52d74e1e1274\" class=\"sk-toggleable__label sk-toggleable__label-arrow\">numerical</label><div class=\"sk-toggleable__content\"><pre>[&#x27;age&#x27;, &#x27;height&#x27;]</pre></div></div></div><div class=\"sk-serial\"><div class=\"sk-item\"><div class=\"sk-serial\"><div class=\"sk-item\"><div class=\"sk-estimator sk-toggleable\"><input class=\"sk-toggleable__control sk-hidden--visually\" id=\"19a671f7-4276-4a62-9b71-7126ae156c94\" type=\"checkbox\" ><label for=\"19a671f7-4276-4a62-9b71-7126ae156c94\" class=\"sk-toggleable__label sk-toggleable__label-arrow\">SimpleImputer</label><div class=\"sk-toggleable__content\"><pre>SimpleImputer()</pre></div></div></div><div class=\"sk-item\"><div class=\"sk-estimator sk-toggleable\"><input class=\"sk-toggleable__control sk-hidden--visually\" id=\"7747704e-8161-4246-b572-24c21c35234e\" type=\"checkbox\" ><label for=\"7747704e-8161-4246-b572-24c21c35234e\" class=\"sk-toggleable__label sk-toggleable__label-arrow\">StandardScaler</label><div class=\"sk-toggleable__content\"><pre>StandardScaler()</pre></div></div></div></div></div></div></div></div></div></div></div></div>"
      ],
      "text/plain": [
       "ColumnTransformer(transformers=[('categorical',\n",
       "                                 Pipeline(steps=[('imputation_constant',\n",
       "                                                  SimpleImputer(fill_value='missing',\n",
       "                                                                strategy='constant')),\n",
       "                                                 ('onehot',\n",
       "                                                  OneHotEncoder(handle_unknown='ignore'))]),\n",
       "                                 ['gender', 'city']),\n",
       "                                ('numerical',\n",
       "                                 Pipeline(steps=[('imputation_mean',\n",
       "                                                  SimpleImputer()),\n",
       "                                                 ('scaler', StandardScaler())]),\n",
       "                                 ['age', 'height'])])"
      ]
     },
     "execution_count": 32,
     "metadata": {},
     "output_type": "execute_result"
    }
   ],
   "source": [
    "preprocessor\n",
    "# pipeline would look like this"
   ]
  },
  {
   "cell_type": "markdown",
   "id": "2096c8b4",
   "metadata": {},
   "source": [
    "#### Add estimator\n",
    "- this can be done using make_pipeline(): Construct a Pipeline from the given estimators.\n",
    "- sklearn.pipeline.make_pipeline\n"
   ]
  },
  {
   "cell_type": "code",
   "execution_count": 33,
   "id": "9cc0927c",
   "metadata": {},
   "outputs": [],
   "source": [
    "from sklearn.pipeline import make_pipeline"
   ]
  },
  {
   "cell_type": "code",
   "execution_count": 34,
   "id": "4fa857f7",
   "metadata": {},
   "outputs": [],
   "source": [
    "# my final pipe has 1. preprocessor which inturn has all transformer 2. estimator, which is \n",
    "# nothing but my ML algorithm.\n",
    " \n",
    "#make_pipeline()\n",
    "final_pipe= make_pipeline(preprocessor, LogisticRegression())"
   ]
  },
  {
   "cell_type": "code",
   "execution_count": 35,
   "id": "e186821e",
   "metadata": {},
   "outputs": [
    {
     "data": {
      "text/html": [
       "<style>#sk-de4a3d7e-7701-448b-be4e-d3276b9283b8 {color: black;background-color: white;}#sk-de4a3d7e-7701-448b-be4e-d3276b9283b8 pre{padding: 0;}#sk-de4a3d7e-7701-448b-be4e-d3276b9283b8 div.sk-toggleable {background-color: white;}#sk-de4a3d7e-7701-448b-be4e-d3276b9283b8 label.sk-toggleable__label {cursor: pointer;display: block;width: 100%;margin-bottom: 0;padding: 0.3em;box-sizing: border-box;text-align: center;}#sk-de4a3d7e-7701-448b-be4e-d3276b9283b8 label.sk-toggleable__label-arrow:before {content: \"▸\";float: left;margin-right: 0.25em;color: #696969;}#sk-de4a3d7e-7701-448b-be4e-d3276b9283b8 label.sk-toggleable__label-arrow:hover:before {color: black;}#sk-de4a3d7e-7701-448b-be4e-d3276b9283b8 div.sk-estimator:hover label.sk-toggleable__label-arrow:before {color: black;}#sk-de4a3d7e-7701-448b-be4e-d3276b9283b8 div.sk-toggleable__content {max-height: 0;max-width: 0;overflow: hidden;text-align: left;background-color: #f0f8ff;}#sk-de4a3d7e-7701-448b-be4e-d3276b9283b8 div.sk-toggleable__content pre {margin: 0.2em;color: black;border-radius: 0.25em;background-color: #f0f8ff;}#sk-de4a3d7e-7701-448b-be4e-d3276b9283b8 input.sk-toggleable__control:checked~div.sk-toggleable__content {max-height: 200px;max-width: 100%;overflow: auto;}#sk-de4a3d7e-7701-448b-be4e-d3276b9283b8 input.sk-toggleable__control:checked~label.sk-toggleable__label-arrow:before {content: \"▾\";}#sk-de4a3d7e-7701-448b-be4e-d3276b9283b8 div.sk-estimator input.sk-toggleable__control:checked~label.sk-toggleable__label {background-color: #d4ebff;}#sk-de4a3d7e-7701-448b-be4e-d3276b9283b8 div.sk-label input.sk-toggleable__control:checked~label.sk-toggleable__label {background-color: #d4ebff;}#sk-de4a3d7e-7701-448b-be4e-d3276b9283b8 input.sk-hidden--visually {border: 0;clip: rect(1px 1px 1px 1px);clip: rect(1px, 1px, 1px, 1px);height: 1px;margin: -1px;overflow: hidden;padding: 0;position: absolute;width: 1px;}#sk-de4a3d7e-7701-448b-be4e-d3276b9283b8 div.sk-estimator {font-family: monospace;background-color: #f0f8ff;border: 1px dotted black;border-radius: 0.25em;box-sizing: border-box;margin-bottom: 0.5em;}#sk-de4a3d7e-7701-448b-be4e-d3276b9283b8 div.sk-estimator:hover {background-color: #d4ebff;}#sk-de4a3d7e-7701-448b-be4e-d3276b9283b8 div.sk-parallel-item::after {content: \"\";width: 100%;border-bottom: 1px solid gray;flex-grow: 1;}#sk-de4a3d7e-7701-448b-be4e-d3276b9283b8 div.sk-label:hover label.sk-toggleable__label {background-color: #d4ebff;}#sk-de4a3d7e-7701-448b-be4e-d3276b9283b8 div.sk-serial::before {content: \"\";position: absolute;border-left: 1px solid gray;box-sizing: border-box;top: 2em;bottom: 0;left: 50%;}#sk-de4a3d7e-7701-448b-be4e-d3276b9283b8 div.sk-serial {display: flex;flex-direction: column;align-items: center;background-color: white;padding-right: 0.2em;padding-left: 0.2em;}#sk-de4a3d7e-7701-448b-be4e-d3276b9283b8 div.sk-item {z-index: 1;}#sk-de4a3d7e-7701-448b-be4e-d3276b9283b8 div.sk-parallel {display: flex;align-items: stretch;justify-content: center;background-color: white;}#sk-de4a3d7e-7701-448b-be4e-d3276b9283b8 div.sk-parallel::before {content: \"\";position: absolute;border-left: 1px solid gray;box-sizing: border-box;top: 2em;bottom: 0;left: 50%;}#sk-de4a3d7e-7701-448b-be4e-d3276b9283b8 div.sk-parallel-item {display: flex;flex-direction: column;position: relative;background-color: white;}#sk-de4a3d7e-7701-448b-be4e-d3276b9283b8 div.sk-parallel-item:first-child::after {align-self: flex-end;width: 50%;}#sk-de4a3d7e-7701-448b-be4e-d3276b9283b8 div.sk-parallel-item:last-child::after {align-self: flex-start;width: 50%;}#sk-de4a3d7e-7701-448b-be4e-d3276b9283b8 div.sk-parallel-item:only-child::after {width: 0;}#sk-de4a3d7e-7701-448b-be4e-d3276b9283b8 div.sk-dashed-wrapped {border: 1px dashed gray;margin: 0 0.4em 0.5em 0.4em;box-sizing: border-box;padding-bottom: 0.4em;background-color: white;position: relative;}#sk-de4a3d7e-7701-448b-be4e-d3276b9283b8 div.sk-label label {font-family: monospace;font-weight: bold;background-color: white;display: inline-block;line-height: 1.2em;}#sk-de4a3d7e-7701-448b-be4e-d3276b9283b8 div.sk-label-container {position: relative;z-index: 2;text-align: center;}#sk-de4a3d7e-7701-448b-be4e-d3276b9283b8 div.sk-container {/* jupyter's `normalize.less` sets `[hidden] { display: none; }` but bootstrap.min.css set `[hidden] { display: none !important; }` so we also need the `!important` here to be able to override the default hidden behavior on the sphinx rendered scikit-learn.org. See: https://github.com/scikit-learn/scikit-learn/issues/21755 */display: inline-block !important;position: relative;}#sk-de4a3d7e-7701-448b-be4e-d3276b9283b8 div.sk-text-repr-fallback {display: none;}</style><div id=\"sk-de4a3d7e-7701-448b-be4e-d3276b9283b8\" class=\"sk-top-container\"><div class=\"sk-text-repr-fallback\"><pre>Pipeline(steps=[(&#x27;columntransformer&#x27;,\n",
       "                 ColumnTransformer(transformers=[(&#x27;categorical&#x27;,\n",
       "                                                  Pipeline(steps=[(&#x27;imputation_constant&#x27;,\n",
       "                                                                   SimpleImputer(fill_value=&#x27;missing&#x27;,\n",
       "                                                                                 strategy=&#x27;constant&#x27;)),\n",
       "                                                                  (&#x27;onehot&#x27;,\n",
       "                                                                   OneHotEncoder(handle_unknown=&#x27;ignore&#x27;))]),\n",
       "                                                  [&#x27;gender&#x27;, &#x27;city&#x27;]),\n",
       "                                                 (&#x27;numerical&#x27;,\n",
       "                                                  Pipeline(steps=[(&#x27;imputation_mean&#x27;,\n",
       "                                                                   SimpleImputer()),\n",
       "                                                                  (&#x27;scaler&#x27;,\n",
       "                                                                   StandardScaler())]),\n",
       "                                                  [&#x27;age&#x27;, &#x27;height&#x27;])])),\n",
       "                (&#x27;logisticregression&#x27;, LogisticRegression())])</pre><b>Please rerun this cell to show the HTML repr or trust the notebook.</b></div><div class=\"sk-container\" hidden><div class=\"sk-item sk-dashed-wrapped\"><div class=\"sk-label-container\"><div class=\"sk-label sk-toggleable\"><input class=\"sk-toggleable__control sk-hidden--visually\" id=\"99b02078-27f2-4bb9-b64f-3cbb019b6fb0\" type=\"checkbox\" ><label for=\"99b02078-27f2-4bb9-b64f-3cbb019b6fb0\" class=\"sk-toggleable__label sk-toggleable__label-arrow\">Pipeline</label><div class=\"sk-toggleable__content\"><pre>Pipeline(steps=[(&#x27;columntransformer&#x27;,\n",
       "                 ColumnTransformer(transformers=[(&#x27;categorical&#x27;,\n",
       "                                                  Pipeline(steps=[(&#x27;imputation_constant&#x27;,\n",
       "                                                                   SimpleImputer(fill_value=&#x27;missing&#x27;,\n",
       "                                                                                 strategy=&#x27;constant&#x27;)),\n",
       "                                                                  (&#x27;onehot&#x27;,\n",
       "                                                                   OneHotEncoder(handle_unknown=&#x27;ignore&#x27;))]),\n",
       "                                                  [&#x27;gender&#x27;, &#x27;city&#x27;]),\n",
       "                                                 (&#x27;numerical&#x27;,\n",
       "                                                  Pipeline(steps=[(&#x27;imputation_mean&#x27;,\n",
       "                                                                   SimpleImputer()),\n",
       "                                                                  (&#x27;scaler&#x27;,\n",
       "                                                                   StandardScaler())]),\n",
       "                                                  [&#x27;age&#x27;, &#x27;height&#x27;])])),\n",
       "                (&#x27;logisticregression&#x27;, LogisticRegression())])</pre></div></div></div><div class=\"sk-serial\"><div class=\"sk-item sk-dashed-wrapped\"><div class=\"sk-label-container\"><div class=\"sk-label sk-toggleable\"><input class=\"sk-toggleable__control sk-hidden--visually\" id=\"a7aeac1d-0328-401f-ac8c-7203785741d9\" type=\"checkbox\" ><label for=\"a7aeac1d-0328-401f-ac8c-7203785741d9\" class=\"sk-toggleable__label sk-toggleable__label-arrow\">columntransformer: ColumnTransformer</label><div class=\"sk-toggleable__content\"><pre>ColumnTransformer(transformers=[(&#x27;categorical&#x27;,\n",
       "                                 Pipeline(steps=[(&#x27;imputation_constant&#x27;,\n",
       "                                                  SimpleImputer(fill_value=&#x27;missing&#x27;,\n",
       "                                                                strategy=&#x27;constant&#x27;)),\n",
       "                                                 (&#x27;onehot&#x27;,\n",
       "                                                  OneHotEncoder(handle_unknown=&#x27;ignore&#x27;))]),\n",
       "                                 [&#x27;gender&#x27;, &#x27;city&#x27;]),\n",
       "                                (&#x27;numerical&#x27;,\n",
       "                                 Pipeline(steps=[(&#x27;imputation_mean&#x27;,\n",
       "                                                  SimpleImputer()),\n",
       "                                                 (&#x27;scaler&#x27;, StandardScaler())]),\n",
       "                                 [&#x27;age&#x27;, &#x27;height&#x27;])])</pre></div></div></div><div class=\"sk-parallel\"><div class=\"sk-parallel-item\"><div class=\"sk-item\"><div class=\"sk-label-container\"><div class=\"sk-label sk-toggleable\"><input class=\"sk-toggleable__control sk-hidden--visually\" id=\"2a130e61-2560-444a-a7dd-f8174baf50f4\" type=\"checkbox\" ><label for=\"2a130e61-2560-444a-a7dd-f8174baf50f4\" class=\"sk-toggleable__label sk-toggleable__label-arrow\">categorical</label><div class=\"sk-toggleable__content\"><pre>[&#x27;gender&#x27;, &#x27;city&#x27;]</pre></div></div></div><div class=\"sk-serial\"><div class=\"sk-item\"><div class=\"sk-serial\"><div class=\"sk-item\"><div class=\"sk-estimator sk-toggleable\"><input class=\"sk-toggleable__control sk-hidden--visually\" id=\"db987e38-ef21-40da-a968-35cdae8ab98b\" type=\"checkbox\" ><label for=\"db987e38-ef21-40da-a968-35cdae8ab98b\" class=\"sk-toggleable__label sk-toggleable__label-arrow\">SimpleImputer</label><div class=\"sk-toggleable__content\"><pre>SimpleImputer(fill_value=&#x27;missing&#x27;, strategy=&#x27;constant&#x27;)</pre></div></div></div><div class=\"sk-item\"><div class=\"sk-estimator sk-toggleable\"><input class=\"sk-toggleable__control sk-hidden--visually\" id=\"f246153a-24b2-4a07-868c-89819cd63780\" type=\"checkbox\" ><label for=\"f246153a-24b2-4a07-868c-89819cd63780\" class=\"sk-toggleable__label sk-toggleable__label-arrow\">OneHotEncoder</label><div class=\"sk-toggleable__content\"><pre>OneHotEncoder(handle_unknown=&#x27;ignore&#x27;)</pre></div></div></div></div></div></div></div></div><div class=\"sk-parallel-item\"><div class=\"sk-item\"><div class=\"sk-label-container\"><div class=\"sk-label sk-toggleable\"><input class=\"sk-toggleable__control sk-hidden--visually\" id=\"89de35e1-053a-4d41-a9ab-65c270430758\" type=\"checkbox\" ><label for=\"89de35e1-053a-4d41-a9ab-65c270430758\" class=\"sk-toggleable__label sk-toggleable__label-arrow\">numerical</label><div class=\"sk-toggleable__content\"><pre>[&#x27;age&#x27;, &#x27;height&#x27;]</pre></div></div></div><div class=\"sk-serial\"><div class=\"sk-item\"><div class=\"sk-serial\"><div class=\"sk-item\"><div class=\"sk-estimator sk-toggleable\"><input class=\"sk-toggleable__control sk-hidden--visually\" id=\"b6fcca53-546e-4443-9d8a-cb9c2d8afef2\" type=\"checkbox\" ><label for=\"b6fcca53-546e-4443-9d8a-cb9c2d8afef2\" class=\"sk-toggleable__label sk-toggleable__label-arrow\">SimpleImputer</label><div class=\"sk-toggleable__content\"><pre>SimpleImputer()</pre></div></div></div><div class=\"sk-item\"><div class=\"sk-estimator sk-toggleable\"><input class=\"sk-toggleable__control sk-hidden--visually\" id=\"94e5585f-86bf-42a3-866b-4a1e699ec37d\" type=\"checkbox\" ><label for=\"94e5585f-86bf-42a3-866b-4a1e699ec37d\" class=\"sk-toggleable__label sk-toggleable__label-arrow\">StandardScaler</label><div class=\"sk-toggleable__content\"><pre>StandardScaler()</pre></div></div></div></div></div></div></div></div></div></div><div class=\"sk-item\"><div class=\"sk-estimator sk-toggleable\"><input class=\"sk-toggleable__control sk-hidden--visually\" id=\"bf89cb64-bc66-4363-8f17-1e5e001e4518\" type=\"checkbox\" ><label for=\"bf89cb64-bc66-4363-8f17-1e5e001e4518\" class=\"sk-toggleable__label sk-toggleable__label-arrow\">LogisticRegression</label><div class=\"sk-toggleable__content\"><pre>LogisticRegression()</pre></div></div></div></div></div></div></div>"
      ],
      "text/plain": [
       "Pipeline(steps=[('columntransformer',\n",
       "                 ColumnTransformer(transformers=[('categorical',\n",
       "                                                  Pipeline(steps=[('imputation_constant',\n",
       "                                                                   SimpleImputer(fill_value='missing',\n",
       "                                                                                 strategy='constant')),\n",
       "                                                                  ('onehot',\n",
       "                                                                   OneHotEncoder(handle_unknown='ignore'))]),\n",
       "                                                  ['gender', 'city']),\n",
       "                                                 ('numerical',\n",
       "                                                  Pipeline(steps=[('imputation_mean',\n",
       "                                                                   SimpleImputer()),\n",
       "                                                                  ('scaler',\n",
       "                                                                   StandardScaler())]),\n",
       "                                                  ['age', 'height'])])),\n",
       "                ('logisticregression', LogisticRegression())])"
      ]
     },
     "execution_count": 35,
     "metadata": {},
     "output_type": "execute_result"
    }
   ],
   "source": [
    "final_pipe"
   ]
  },
  {
   "cell_type": "code",
   "execution_count": 55,
   "id": "d68626ee",
   "metadata": {},
   "outputs": [],
   "source": [
    "## Example 2: using dataset"
   ]
  },
  {
   "cell_type": "code",
   "execution_count": 36,
   "id": "b2ac70a1",
   "metadata": {},
   "outputs": [],
   "source": [
    "import numpy as np\n",
    "from sklearn.pipeline import make_pipeline\n",
    "from sklearn.pipeline import Pipeline\n",
    "from sklearn.impute import SimpleImputer\n",
    "from sklearn.compose import ColumnTransformer\n",
    "from sklearn.preprocessing import OneHotEncoder, StandardScaler\n",
    "from sklearn.ensemble import RandomForestRegressor\n",
    "from sklearn.model_selection import GridSearchCV"
   ]
  },
  {
   "cell_type": "code",
   "execution_count": 37,
   "id": "47da1970",
   "metadata": {},
   "outputs": [],
   "source": [
    "import seaborn as sns"
   ]
  },
  {
   "cell_type": "code",
   "execution_count": 38,
   "id": "2d780a27",
   "metadata": {},
   "outputs": [],
   "source": [
    "df=sns.load_dataset('tips')"
   ]
  },
  {
   "cell_type": "code",
   "execution_count": 39,
   "id": "69d2d8e9",
   "metadata": {},
   "outputs": [
    {
     "data": {
      "text/html": [
       "<div>\n",
       "<style scoped>\n",
       "    .dataframe tbody tr th:only-of-type {\n",
       "        vertical-align: middle;\n",
       "    }\n",
       "\n",
       "    .dataframe tbody tr th {\n",
       "        vertical-align: top;\n",
       "    }\n",
       "\n",
       "    .dataframe thead th {\n",
       "        text-align: right;\n",
       "    }\n",
       "</style>\n",
       "<table border=\"1\" class=\"dataframe\">\n",
       "  <thead>\n",
       "    <tr style=\"text-align: right;\">\n",
       "      <th></th>\n",
       "      <th>total_bill</th>\n",
       "      <th>tip</th>\n",
       "      <th>sex</th>\n",
       "      <th>smoker</th>\n",
       "      <th>day</th>\n",
       "      <th>time</th>\n",
       "      <th>size</th>\n",
       "    </tr>\n",
       "  </thead>\n",
       "  <tbody>\n",
       "    <tr>\n",
       "      <th>0</th>\n",
       "      <td>16.99</td>\n",
       "      <td>1.01</td>\n",
       "      <td>Female</td>\n",
       "      <td>No</td>\n",
       "      <td>Sun</td>\n",
       "      <td>Dinner</td>\n",
       "      <td>2</td>\n",
       "    </tr>\n",
       "    <tr>\n",
       "      <th>1</th>\n",
       "      <td>10.34</td>\n",
       "      <td>1.66</td>\n",
       "      <td>Male</td>\n",
       "      <td>No</td>\n",
       "      <td>Sun</td>\n",
       "      <td>Dinner</td>\n",
       "      <td>3</td>\n",
       "    </tr>\n",
       "    <tr>\n",
       "      <th>2</th>\n",
       "      <td>21.01</td>\n",
       "      <td>3.50</td>\n",
       "      <td>Male</td>\n",
       "      <td>No</td>\n",
       "      <td>Sun</td>\n",
       "      <td>Dinner</td>\n",
       "      <td>3</td>\n",
       "    </tr>\n",
       "    <tr>\n",
       "      <th>3</th>\n",
       "      <td>23.68</td>\n",
       "      <td>3.31</td>\n",
       "      <td>Male</td>\n",
       "      <td>No</td>\n",
       "      <td>Sun</td>\n",
       "      <td>Dinner</td>\n",
       "      <td>2</td>\n",
       "    </tr>\n",
       "    <tr>\n",
       "      <th>4</th>\n",
       "      <td>24.59</td>\n",
       "      <td>3.61</td>\n",
       "      <td>Female</td>\n",
       "      <td>No</td>\n",
       "      <td>Sun</td>\n",
       "      <td>Dinner</td>\n",
       "      <td>4</td>\n",
       "    </tr>\n",
       "  </tbody>\n",
       "</table>\n",
       "</div>"
      ],
      "text/plain": [
       "   total_bill   tip     sex smoker  day    time  size\n",
       "0       16.99  1.01  Female     No  Sun  Dinner     2\n",
       "1       10.34  1.66    Male     No  Sun  Dinner     3\n",
       "2       21.01  3.50    Male     No  Sun  Dinner     3\n",
       "3       23.68  3.31    Male     No  Sun  Dinner     2\n",
       "4       24.59  3.61  Female     No  Sun  Dinner     4"
      ]
     },
     "execution_count": 39,
     "metadata": {},
     "output_type": "execute_result"
    }
   ],
   "source": [
    "df.head()"
   ]
  },
  {
   "cell_type": "code",
   "execution_count": 40,
   "id": "d229bdd4",
   "metadata": {},
   "outputs": [],
   "source": [
    "X1=df.iloc[:,1:]\n",
    "y1=df['total_bill']"
   ]
  },
  {
   "cell_type": "code",
   "execution_count": 41,
   "id": "33316fd6",
   "metadata": {},
   "outputs": [],
   "source": [
    "from sklearn.model_selection import train_test_split\n",
    "X_train1,X_test1,y_train1,y_test1=train_test_split(X1,y1,test_size=0.2)"
   ]
  },
  {
   "cell_type": "code",
   "execution_count": 42,
   "id": "773a3a8c",
   "metadata": {},
   "outputs": [],
   "source": [
    "numeric_preprocessor1 = Pipeline(\n",
    "    steps=[\n",
    "        (\"imputation_mean\", SimpleImputer(missing_values=np.nan, strategy=\"mean\")),\n",
    "        (\"scaler\", StandardScaler()),\n",
    "    ]\n",
    ")"
   ]
  },
  {
   "cell_type": "code",
   "execution_count": 43,
   "id": "7cefe071",
   "metadata": {},
   "outputs": [],
   "source": [
    "from sklearn import set_config"
   ]
  },
  {
   "cell_type": "code",
   "execution_count": 44,
   "id": "d253d028",
   "metadata": {},
   "outputs": [],
   "source": [
    "set_config(display='diagram')"
   ]
  },
  {
   "cell_type": "code",
   "execution_count": 45,
   "id": "4ec936a9",
   "metadata": {},
   "outputs": [
    {
     "data": {
      "text/html": [
       "<style>#sk-0252296d-429a-46a2-a204-956da1cd8abe {color: black;background-color: white;}#sk-0252296d-429a-46a2-a204-956da1cd8abe pre{padding: 0;}#sk-0252296d-429a-46a2-a204-956da1cd8abe div.sk-toggleable {background-color: white;}#sk-0252296d-429a-46a2-a204-956da1cd8abe label.sk-toggleable__label {cursor: pointer;display: block;width: 100%;margin-bottom: 0;padding: 0.3em;box-sizing: border-box;text-align: center;}#sk-0252296d-429a-46a2-a204-956da1cd8abe label.sk-toggleable__label-arrow:before {content: \"▸\";float: left;margin-right: 0.25em;color: #696969;}#sk-0252296d-429a-46a2-a204-956da1cd8abe label.sk-toggleable__label-arrow:hover:before {color: black;}#sk-0252296d-429a-46a2-a204-956da1cd8abe div.sk-estimator:hover label.sk-toggleable__label-arrow:before {color: black;}#sk-0252296d-429a-46a2-a204-956da1cd8abe div.sk-toggleable__content {max-height: 0;max-width: 0;overflow: hidden;text-align: left;background-color: #f0f8ff;}#sk-0252296d-429a-46a2-a204-956da1cd8abe div.sk-toggleable__content pre {margin: 0.2em;color: black;border-radius: 0.25em;background-color: #f0f8ff;}#sk-0252296d-429a-46a2-a204-956da1cd8abe input.sk-toggleable__control:checked~div.sk-toggleable__content {max-height: 200px;max-width: 100%;overflow: auto;}#sk-0252296d-429a-46a2-a204-956da1cd8abe input.sk-toggleable__control:checked~label.sk-toggleable__label-arrow:before {content: \"▾\";}#sk-0252296d-429a-46a2-a204-956da1cd8abe div.sk-estimator input.sk-toggleable__control:checked~label.sk-toggleable__label {background-color: #d4ebff;}#sk-0252296d-429a-46a2-a204-956da1cd8abe div.sk-label input.sk-toggleable__control:checked~label.sk-toggleable__label {background-color: #d4ebff;}#sk-0252296d-429a-46a2-a204-956da1cd8abe input.sk-hidden--visually {border: 0;clip: rect(1px 1px 1px 1px);clip: rect(1px, 1px, 1px, 1px);height: 1px;margin: -1px;overflow: hidden;padding: 0;position: absolute;width: 1px;}#sk-0252296d-429a-46a2-a204-956da1cd8abe div.sk-estimator {font-family: monospace;background-color: #f0f8ff;border: 1px dotted black;border-radius: 0.25em;box-sizing: border-box;margin-bottom: 0.5em;}#sk-0252296d-429a-46a2-a204-956da1cd8abe div.sk-estimator:hover {background-color: #d4ebff;}#sk-0252296d-429a-46a2-a204-956da1cd8abe div.sk-parallel-item::after {content: \"\";width: 100%;border-bottom: 1px solid gray;flex-grow: 1;}#sk-0252296d-429a-46a2-a204-956da1cd8abe div.sk-label:hover label.sk-toggleable__label {background-color: #d4ebff;}#sk-0252296d-429a-46a2-a204-956da1cd8abe div.sk-serial::before {content: \"\";position: absolute;border-left: 1px solid gray;box-sizing: border-box;top: 2em;bottom: 0;left: 50%;}#sk-0252296d-429a-46a2-a204-956da1cd8abe div.sk-serial {display: flex;flex-direction: column;align-items: center;background-color: white;padding-right: 0.2em;padding-left: 0.2em;}#sk-0252296d-429a-46a2-a204-956da1cd8abe div.sk-item {z-index: 1;}#sk-0252296d-429a-46a2-a204-956da1cd8abe div.sk-parallel {display: flex;align-items: stretch;justify-content: center;background-color: white;}#sk-0252296d-429a-46a2-a204-956da1cd8abe div.sk-parallel::before {content: \"\";position: absolute;border-left: 1px solid gray;box-sizing: border-box;top: 2em;bottom: 0;left: 50%;}#sk-0252296d-429a-46a2-a204-956da1cd8abe div.sk-parallel-item {display: flex;flex-direction: column;position: relative;background-color: white;}#sk-0252296d-429a-46a2-a204-956da1cd8abe div.sk-parallel-item:first-child::after {align-self: flex-end;width: 50%;}#sk-0252296d-429a-46a2-a204-956da1cd8abe div.sk-parallel-item:last-child::after {align-self: flex-start;width: 50%;}#sk-0252296d-429a-46a2-a204-956da1cd8abe div.sk-parallel-item:only-child::after {width: 0;}#sk-0252296d-429a-46a2-a204-956da1cd8abe div.sk-dashed-wrapped {border: 1px dashed gray;margin: 0 0.4em 0.5em 0.4em;box-sizing: border-box;padding-bottom: 0.4em;background-color: white;position: relative;}#sk-0252296d-429a-46a2-a204-956da1cd8abe div.sk-label label {font-family: monospace;font-weight: bold;background-color: white;display: inline-block;line-height: 1.2em;}#sk-0252296d-429a-46a2-a204-956da1cd8abe div.sk-label-container {position: relative;z-index: 2;text-align: center;}#sk-0252296d-429a-46a2-a204-956da1cd8abe div.sk-container {/* jupyter's `normalize.less` sets `[hidden] { display: none; }` but bootstrap.min.css set `[hidden] { display: none !important; }` so we also need the `!important` here to be able to override the default hidden behavior on the sphinx rendered scikit-learn.org. See: https://github.com/scikit-learn/scikit-learn/issues/21755 */display: inline-block !important;position: relative;}#sk-0252296d-429a-46a2-a204-956da1cd8abe div.sk-text-repr-fallback {display: none;}</style><div id=\"sk-0252296d-429a-46a2-a204-956da1cd8abe\" class=\"sk-top-container\"><div class=\"sk-text-repr-fallback\"><pre>Pipeline(steps=[(&#x27;imputation_mean&#x27;, SimpleImputer()),\n",
       "                (&#x27;scaler&#x27;, StandardScaler())])</pre><b>Please rerun this cell to show the HTML repr or trust the notebook.</b></div><div class=\"sk-container\" hidden><div class=\"sk-item sk-dashed-wrapped\"><div class=\"sk-label-container\"><div class=\"sk-label sk-toggleable\"><input class=\"sk-toggleable__control sk-hidden--visually\" id=\"78fa1c0c-136a-46c5-997d-337e282c7939\" type=\"checkbox\" ><label for=\"78fa1c0c-136a-46c5-997d-337e282c7939\" class=\"sk-toggleable__label sk-toggleable__label-arrow\">Pipeline</label><div class=\"sk-toggleable__content\"><pre>Pipeline(steps=[(&#x27;imputation_mean&#x27;, SimpleImputer()),\n",
       "                (&#x27;scaler&#x27;, StandardScaler())])</pre></div></div></div><div class=\"sk-serial\"><div class=\"sk-item\"><div class=\"sk-estimator sk-toggleable\"><input class=\"sk-toggleable__control sk-hidden--visually\" id=\"42a14eaf-2a19-4113-868e-1b972c15565c\" type=\"checkbox\" ><label for=\"42a14eaf-2a19-4113-868e-1b972c15565c\" class=\"sk-toggleable__label sk-toggleable__label-arrow\">SimpleImputer</label><div class=\"sk-toggleable__content\"><pre>SimpleImputer()</pre></div></div></div><div class=\"sk-item\"><div class=\"sk-estimator sk-toggleable\"><input class=\"sk-toggleable__control sk-hidden--visually\" id=\"5b12b6f6-80c9-4517-a44e-591671bafb40\" type=\"checkbox\" ><label for=\"5b12b6f6-80c9-4517-a44e-591671bafb40\" class=\"sk-toggleable__label sk-toggleable__label-arrow\">StandardScaler</label><div class=\"sk-toggleable__content\"><pre>StandardScaler()</pre></div></div></div></div></div></div></div>"
      ],
      "text/plain": [
       "Pipeline(steps=[('imputation_mean', SimpleImputer()),\n",
       "                ('scaler', StandardScaler())])"
      ]
     },
     "execution_count": 45,
     "metadata": {},
     "output_type": "execute_result"
    }
   ],
   "source": [
    "numeric_preprocessor1"
   ]
  },
  {
   "cell_type": "code",
   "execution_count": 46,
   "id": "9d6e4d64",
   "metadata": {},
   "outputs": [],
   "source": [
    "categorical_preprocessor1 = Pipeline(\n",
    "    steps=[\n",
    "        (\n",
    "            \"imputation_constant\",\n",
    "            SimpleImputer(fill_value=\"missing\", strategy=\"constant\"),\n",
    "        ),\n",
    "        (\"onehot\", OneHotEncoder(handle_unknown=\"ignore\")),\n",
    "    ]\n",
    ")"
   ]
  },
  {
   "cell_type": "code",
   "execution_count": 47,
   "id": "4101107c",
   "metadata": {},
   "outputs": [
    {
     "data": {
      "text/html": [
       "<style>#sk-758398ad-75ac-4c24-9d4f-b579a18dcd3a {color: black;background-color: white;}#sk-758398ad-75ac-4c24-9d4f-b579a18dcd3a pre{padding: 0;}#sk-758398ad-75ac-4c24-9d4f-b579a18dcd3a div.sk-toggleable {background-color: white;}#sk-758398ad-75ac-4c24-9d4f-b579a18dcd3a label.sk-toggleable__label {cursor: pointer;display: block;width: 100%;margin-bottom: 0;padding: 0.3em;box-sizing: border-box;text-align: center;}#sk-758398ad-75ac-4c24-9d4f-b579a18dcd3a label.sk-toggleable__label-arrow:before {content: \"▸\";float: left;margin-right: 0.25em;color: #696969;}#sk-758398ad-75ac-4c24-9d4f-b579a18dcd3a label.sk-toggleable__label-arrow:hover:before {color: black;}#sk-758398ad-75ac-4c24-9d4f-b579a18dcd3a div.sk-estimator:hover label.sk-toggleable__label-arrow:before {color: black;}#sk-758398ad-75ac-4c24-9d4f-b579a18dcd3a div.sk-toggleable__content {max-height: 0;max-width: 0;overflow: hidden;text-align: left;background-color: #f0f8ff;}#sk-758398ad-75ac-4c24-9d4f-b579a18dcd3a div.sk-toggleable__content pre {margin: 0.2em;color: black;border-radius: 0.25em;background-color: #f0f8ff;}#sk-758398ad-75ac-4c24-9d4f-b579a18dcd3a input.sk-toggleable__control:checked~div.sk-toggleable__content {max-height: 200px;max-width: 100%;overflow: auto;}#sk-758398ad-75ac-4c24-9d4f-b579a18dcd3a input.sk-toggleable__control:checked~label.sk-toggleable__label-arrow:before {content: \"▾\";}#sk-758398ad-75ac-4c24-9d4f-b579a18dcd3a div.sk-estimator input.sk-toggleable__control:checked~label.sk-toggleable__label {background-color: #d4ebff;}#sk-758398ad-75ac-4c24-9d4f-b579a18dcd3a div.sk-label input.sk-toggleable__control:checked~label.sk-toggleable__label {background-color: #d4ebff;}#sk-758398ad-75ac-4c24-9d4f-b579a18dcd3a input.sk-hidden--visually {border: 0;clip: rect(1px 1px 1px 1px);clip: rect(1px, 1px, 1px, 1px);height: 1px;margin: -1px;overflow: hidden;padding: 0;position: absolute;width: 1px;}#sk-758398ad-75ac-4c24-9d4f-b579a18dcd3a div.sk-estimator {font-family: monospace;background-color: #f0f8ff;border: 1px dotted black;border-radius: 0.25em;box-sizing: border-box;margin-bottom: 0.5em;}#sk-758398ad-75ac-4c24-9d4f-b579a18dcd3a div.sk-estimator:hover {background-color: #d4ebff;}#sk-758398ad-75ac-4c24-9d4f-b579a18dcd3a div.sk-parallel-item::after {content: \"\";width: 100%;border-bottom: 1px solid gray;flex-grow: 1;}#sk-758398ad-75ac-4c24-9d4f-b579a18dcd3a div.sk-label:hover label.sk-toggleable__label {background-color: #d4ebff;}#sk-758398ad-75ac-4c24-9d4f-b579a18dcd3a div.sk-serial::before {content: \"\";position: absolute;border-left: 1px solid gray;box-sizing: border-box;top: 2em;bottom: 0;left: 50%;}#sk-758398ad-75ac-4c24-9d4f-b579a18dcd3a div.sk-serial {display: flex;flex-direction: column;align-items: center;background-color: white;padding-right: 0.2em;padding-left: 0.2em;}#sk-758398ad-75ac-4c24-9d4f-b579a18dcd3a div.sk-item {z-index: 1;}#sk-758398ad-75ac-4c24-9d4f-b579a18dcd3a div.sk-parallel {display: flex;align-items: stretch;justify-content: center;background-color: white;}#sk-758398ad-75ac-4c24-9d4f-b579a18dcd3a div.sk-parallel::before {content: \"\";position: absolute;border-left: 1px solid gray;box-sizing: border-box;top: 2em;bottom: 0;left: 50%;}#sk-758398ad-75ac-4c24-9d4f-b579a18dcd3a div.sk-parallel-item {display: flex;flex-direction: column;position: relative;background-color: white;}#sk-758398ad-75ac-4c24-9d4f-b579a18dcd3a div.sk-parallel-item:first-child::after {align-self: flex-end;width: 50%;}#sk-758398ad-75ac-4c24-9d4f-b579a18dcd3a div.sk-parallel-item:last-child::after {align-self: flex-start;width: 50%;}#sk-758398ad-75ac-4c24-9d4f-b579a18dcd3a div.sk-parallel-item:only-child::after {width: 0;}#sk-758398ad-75ac-4c24-9d4f-b579a18dcd3a div.sk-dashed-wrapped {border: 1px dashed gray;margin: 0 0.4em 0.5em 0.4em;box-sizing: border-box;padding-bottom: 0.4em;background-color: white;position: relative;}#sk-758398ad-75ac-4c24-9d4f-b579a18dcd3a div.sk-label label {font-family: monospace;font-weight: bold;background-color: white;display: inline-block;line-height: 1.2em;}#sk-758398ad-75ac-4c24-9d4f-b579a18dcd3a div.sk-label-container {position: relative;z-index: 2;text-align: center;}#sk-758398ad-75ac-4c24-9d4f-b579a18dcd3a div.sk-container {/* jupyter's `normalize.less` sets `[hidden] { display: none; }` but bootstrap.min.css set `[hidden] { display: none !important; }` so we also need the `!important` here to be able to override the default hidden behavior on the sphinx rendered scikit-learn.org. See: https://github.com/scikit-learn/scikit-learn/issues/21755 */display: inline-block !important;position: relative;}#sk-758398ad-75ac-4c24-9d4f-b579a18dcd3a div.sk-text-repr-fallback {display: none;}</style><div id=\"sk-758398ad-75ac-4c24-9d4f-b579a18dcd3a\" class=\"sk-top-container\"><div class=\"sk-text-repr-fallback\"><pre>Pipeline(steps=[(&#x27;imputation_constant&#x27;,\n",
       "                 SimpleImputer(fill_value=&#x27;missing&#x27;, strategy=&#x27;constant&#x27;)),\n",
       "                (&#x27;onehot&#x27;, OneHotEncoder(handle_unknown=&#x27;ignore&#x27;))])</pre><b>Please rerun this cell to show the HTML repr or trust the notebook.</b></div><div class=\"sk-container\" hidden><div class=\"sk-item sk-dashed-wrapped\"><div class=\"sk-label-container\"><div class=\"sk-label sk-toggleable\"><input class=\"sk-toggleable__control sk-hidden--visually\" id=\"5eb5073a-b5a6-440c-891d-63022ef912c3\" type=\"checkbox\" ><label for=\"5eb5073a-b5a6-440c-891d-63022ef912c3\" class=\"sk-toggleable__label sk-toggleable__label-arrow\">Pipeline</label><div class=\"sk-toggleable__content\"><pre>Pipeline(steps=[(&#x27;imputation_constant&#x27;,\n",
       "                 SimpleImputer(fill_value=&#x27;missing&#x27;, strategy=&#x27;constant&#x27;)),\n",
       "                (&#x27;onehot&#x27;, OneHotEncoder(handle_unknown=&#x27;ignore&#x27;))])</pre></div></div></div><div class=\"sk-serial\"><div class=\"sk-item\"><div class=\"sk-estimator sk-toggleable\"><input class=\"sk-toggleable__control sk-hidden--visually\" id=\"fbce3963-075d-4b57-98b2-c4da71b84aad\" type=\"checkbox\" ><label for=\"fbce3963-075d-4b57-98b2-c4da71b84aad\" class=\"sk-toggleable__label sk-toggleable__label-arrow\">SimpleImputer</label><div class=\"sk-toggleable__content\"><pre>SimpleImputer(fill_value=&#x27;missing&#x27;, strategy=&#x27;constant&#x27;)</pre></div></div></div><div class=\"sk-item\"><div class=\"sk-estimator sk-toggleable\"><input class=\"sk-toggleable__control sk-hidden--visually\" id=\"cd2c12d7-99ce-41ab-9119-8db6eae9f903\" type=\"checkbox\" ><label for=\"cd2c12d7-99ce-41ab-9119-8db6eae9f903\" class=\"sk-toggleable__label sk-toggleable__label-arrow\">OneHotEncoder</label><div class=\"sk-toggleable__content\"><pre>OneHotEncoder(handle_unknown=&#x27;ignore&#x27;)</pre></div></div></div></div></div></div></div>"
      ],
      "text/plain": [
       "Pipeline(steps=[('imputation_constant',\n",
       "                 SimpleImputer(fill_value='missing', strategy='constant')),\n",
       "                ('onehot', OneHotEncoder(handle_unknown='ignore'))])"
      ]
     },
     "execution_count": 47,
     "metadata": {},
     "output_type": "execute_result"
    }
   ],
   "source": [
    "categorical_preprocessor1"
   ]
  },
  {
   "cell_type": "code",
   "execution_count": 50,
   "id": "86c9c9b5",
   "metadata": {},
   "outputs": [],
   "source": [
    "preprocessor1=Pipeline(\n",
    "    steps=[(\"categorical\",categorical_preprocessor1),(\"numerical\",numeric_preprocessor1)]\n",
    "\n",
    ")"
   ]
  },
  {
   "cell_type": "code",
   "execution_count": 51,
   "id": "0e25849b",
   "metadata": {},
   "outputs": [
    {
     "data": {
      "text/html": [
       "<style>#sk-96b2cdbf-b472-4aa1-9682-e3f8f89e4505 {color: black;background-color: white;}#sk-96b2cdbf-b472-4aa1-9682-e3f8f89e4505 pre{padding: 0;}#sk-96b2cdbf-b472-4aa1-9682-e3f8f89e4505 div.sk-toggleable {background-color: white;}#sk-96b2cdbf-b472-4aa1-9682-e3f8f89e4505 label.sk-toggleable__label {cursor: pointer;display: block;width: 100%;margin-bottom: 0;padding: 0.3em;box-sizing: border-box;text-align: center;}#sk-96b2cdbf-b472-4aa1-9682-e3f8f89e4505 label.sk-toggleable__label-arrow:before {content: \"▸\";float: left;margin-right: 0.25em;color: #696969;}#sk-96b2cdbf-b472-4aa1-9682-e3f8f89e4505 label.sk-toggleable__label-arrow:hover:before {color: black;}#sk-96b2cdbf-b472-4aa1-9682-e3f8f89e4505 div.sk-estimator:hover label.sk-toggleable__label-arrow:before {color: black;}#sk-96b2cdbf-b472-4aa1-9682-e3f8f89e4505 div.sk-toggleable__content {max-height: 0;max-width: 0;overflow: hidden;text-align: left;background-color: #f0f8ff;}#sk-96b2cdbf-b472-4aa1-9682-e3f8f89e4505 div.sk-toggleable__content pre {margin: 0.2em;color: black;border-radius: 0.25em;background-color: #f0f8ff;}#sk-96b2cdbf-b472-4aa1-9682-e3f8f89e4505 input.sk-toggleable__control:checked~div.sk-toggleable__content {max-height: 200px;max-width: 100%;overflow: auto;}#sk-96b2cdbf-b472-4aa1-9682-e3f8f89e4505 input.sk-toggleable__control:checked~label.sk-toggleable__label-arrow:before {content: \"▾\";}#sk-96b2cdbf-b472-4aa1-9682-e3f8f89e4505 div.sk-estimator input.sk-toggleable__control:checked~label.sk-toggleable__label {background-color: #d4ebff;}#sk-96b2cdbf-b472-4aa1-9682-e3f8f89e4505 div.sk-label input.sk-toggleable__control:checked~label.sk-toggleable__label {background-color: #d4ebff;}#sk-96b2cdbf-b472-4aa1-9682-e3f8f89e4505 input.sk-hidden--visually {border: 0;clip: rect(1px 1px 1px 1px);clip: rect(1px, 1px, 1px, 1px);height: 1px;margin: -1px;overflow: hidden;padding: 0;position: absolute;width: 1px;}#sk-96b2cdbf-b472-4aa1-9682-e3f8f89e4505 div.sk-estimator {font-family: monospace;background-color: #f0f8ff;border: 1px dotted black;border-radius: 0.25em;box-sizing: border-box;margin-bottom: 0.5em;}#sk-96b2cdbf-b472-4aa1-9682-e3f8f89e4505 div.sk-estimator:hover {background-color: #d4ebff;}#sk-96b2cdbf-b472-4aa1-9682-e3f8f89e4505 div.sk-parallel-item::after {content: \"\";width: 100%;border-bottom: 1px solid gray;flex-grow: 1;}#sk-96b2cdbf-b472-4aa1-9682-e3f8f89e4505 div.sk-label:hover label.sk-toggleable__label {background-color: #d4ebff;}#sk-96b2cdbf-b472-4aa1-9682-e3f8f89e4505 div.sk-serial::before {content: \"\";position: absolute;border-left: 1px solid gray;box-sizing: border-box;top: 2em;bottom: 0;left: 50%;}#sk-96b2cdbf-b472-4aa1-9682-e3f8f89e4505 div.sk-serial {display: flex;flex-direction: column;align-items: center;background-color: white;padding-right: 0.2em;padding-left: 0.2em;}#sk-96b2cdbf-b472-4aa1-9682-e3f8f89e4505 div.sk-item {z-index: 1;}#sk-96b2cdbf-b472-4aa1-9682-e3f8f89e4505 div.sk-parallel {display: flex;align-items: stretch;justify-content: center;background-color: white;}#sk-96b2cdbf-b472-4aa1-9682-e3f8f89e4505 div.sk-parallel::before {content: \"\";position: absolute;border-left: 1px solid gray;box-sizing: border-box;top: 2em;bottom: 0;left: 50%;}#sk-96b2cdbf-b472-4aa1-9682-e3f8f89e4505 div.sk-parallel-item {display: flex;flex-direction: column;position: relative;background-color: white;}#sk-96b2cdbf-b472-4aa1-9682-e3f8f89e4505 div.sk-parallel-item:first-child::after {align-self: flex-end;width: 50%;}#sk-96b2cdbf-b472-4aa1-9682-e3f8f89e4505 div.sk-parallel-item:last-child::after {align-self: flex-start;width: 50%;}#sk-96b2cdbf-b472-4aa1-9682-e3f8f89e4505 div.sk-parallel-item:only-child::after {width: 0;}#sk-96b2cdbf-b472-4aa1-9682-e3f8f89e4505 div.sk-dashed-wrapped {border: 1px dashed gray;margin: 0 0.4em 0.5em 0.4em;box-sizing: border-box;padding-bottom: 0.4em;background-color: white;position: relative;}#sk-96b2cdbf-b472-4aa1-9682-e3f8f89e4505 div.sk-label label {font-family: monospace;font-weight: bold;background-color: white;display: inline-block;line-height: 1.2em;}#sk-96b2cdbf-b472-4aa1-9682-e3f8f89e4505 div.sk-label-container {position: relative;z-index: 2;text-align: center;}#sk-96b2cdbf-b472-4aa1-9682-e3f8f89e4505 div.sk-container {/* jupyter's `normalize.less` sets `[hidden] { display: none; }` but bootstrap.min.css set `[hidden] { display: none !important; }` so we also need the `!important` here to be able to override the default hidden behavior on the sphinx rendered scikit-learn.org. See: https://github.com/scikit-learn/scikit-learn/issues/21755 */display: inline-block !important;position: relative;}#sk-96b2cdbf-b472-4aa1-9682-e3f8f89e4505 div.sk-text-repr-fallback {display: none;}</style><div id=\"sk-96b2cdbf-b472-4aa1-9682-e3f8f89e4505\" class=\"sk-top-container\"><div class=\"sk-text-repr-fallback\"><pre>Pipeline(steps=[(&#x27;categorical&#x27;,\n",
       "                 Pipeline(steps=[(&#x27;imputation_constant&#x27;,\n",
       "                                  SimpleImputer(fill_value=&#x27;missing&#x27;,\n",
       "                                                strategy=&#x27;constant&#x27;)),\n",
       "                                 (&#x27;onehot&#x27;,\n",
       "                                  OneHotEncoder(handle_unknown=&#x27;ignore&#x27;))])),\n",
       "                (&#x27;numerical&#x27;,\n",
       "                 Pipeline(steps=[(&#x27;imputation_mean&#x27;, SimpleImputer()),\n",
       "                                 (&#x27;scaler&#x27;, StandardScaler())]))])</pre><b>Please rerun this cell to show the HTML repr or trust the notebook.</b></div><div class=\"sk-container\" hidden><div class=\"sk-item sk-dashed-wrapped\"><div class=\"sk-label-container\"><div class=\"sk-label sk-toggleable\"><input class=\"sk-toggleable__control sk-hidden--visually\" id=\"b5ece994-ff18-44d9-9066-aafe98262c0f\" type=\"checkbox\" ><label for=\"b5ece994-ff18-44d9-9066-aafe98262c0f\" class=\"sk-toggleable__label sk-toggleable__label-arrow\">Pipeline</label><div class=\"sk-toggleable__content\"><pre>Pipeline(steps=[(&#x27;categorical&#x27;,\n",
       "                 Pipeline(steps=[(&#x27;imputation_constant&#x27;,\n",
       "                                  SimpleImputer(fill_value=&#x27;missing&#x27;,\n",
       "                                                strategy=&#x27;constant&#x27;)),\n",
       "                                 (&#x27;onehot&#x27;,\n",
       "                                  OneHotEncoder(handle_unknown=&#x27;ignore&#x27;))])),\n",
       "                (&#x27;numerical&#x27;,\n",
       "                 Pipeline(steps=[(&#x27;imputation_mean&#x27;, SimpleImputer()),\n",
       "                                 (&#x27;scaler&#x27;, StandardScaler())]))])</pre></div></div></div><div class=\"sk-serial\"><div class=\"sk-item\"><div class=\"sk-label-container\"><div class=\"sk-label sk-toggleable\"><input class=\"sk-toggleable__control sk-hidden--visually\" id=\"22758889-cb08-4c3d-9bfd-4d28ad06cafe\" type=\"checkbox\" ><label for=\"22758889-cb08-4c3d-9bfd-4d28ad06cafe\" class=\"sk-toggleable__label sk-toggleable__label-arrow\">categorical: Pipeline</label><div class=\"sk-toggleable__content\"><pre>Pipeline(steps=[(&#x27;imputation_constant&#x27;,\n",
       "                 SimpleImputer(fill_value=&#x27;missing&#x27;, strategy=&#x27;constant&#x27;)),\n",
       "                (&#x27;onehot&#x27;, OneHotEncoder(handle_unknown=&#x27;ignore&#x27;))])</pre></div></div></div><div class=\"sk-serial\"><div class=\"sk-item\"><div class=\"sk-estimator sk-toggleable\"><input class=\"sk-toggleable__control sk-hidden--visually\" id=\"73264fec-4902-4870-8f18-4c13c0d1c65b\" type=\"checkbox\" ><label for=\"73264fec-4902-4870-8f18-4c13c0d1c65b\" class=\"sk-toggleable__label sk-toggleable__label-arrow\">SimpleImputer</label><div class=\"sk-toggleable__content\"><pre>SimpleImputer(fill_value=&#x27;missing&#x27;, strategy=&#x27;constant&#x27;)</pre></div></div></div><div class=\"sk-item\"><div class=\"sk-estimator sk-toggleable\"><input class=\"sk-toggleable__control sk-hidden--visually\" id=\"38561511-6317-4b04-9e77-b40c71a3169f\" type=\"checkbox\" ><label for=\"38561511-6317-4b04-9e77-b40c71a3169f\" class=\"sk-toggleable__label sk-toggleable__label-arrow\">OneHotEncoder</label><div class=\"sk-toggleable__content\"><pre>OneHotEncoder(handle_unknown=&#x27;ignore&#x27;)</pre></div></div></div></div></div><div class=\"sk-item\"><div class=\"sk-label-container\"><div class=\"sk-label sk-toggleable\"><input class=\"sk-toggleable__control sk-hidden--visually\" id=\"5a6378b9-0781-45d3-ac60-e132cbcc2168\" type=\"checkbox\" ><label for=\"5a6378b9-0781-45d3-ac60-e132cbcc2168\" class=\"sk-toggleable__label sk-toggleable__label-arrow\">numerical: Pipeline</label><div class=\"sk-toggleable__content\"><pre>Pipeline(steps=[(&#x27;imputation_mean&#x27;, SimpleImputer()),\n",
       "                (&#x27;scaler&#x27;, StandardScaler())])</pre></div></div></div><div class=\"sk-serial\"><div class=\"sk-item\"><div class=\"sk-estimator sk-toggleable\"><input class=\"sk-toggleable__control sk-hidden--visually\" id=\"90295927-2794-409d-9a84-51c6426574e9\" type=\"checkbox\" ><label for=\"90295927-2794-409d-9a84-51c6426574e9\" class=\"sk-toggleable__label sk-toggleable__label-arrow\">SimpleImputer</label><div class=\"sk-toggleable__content\"><pre>SimpleImputer()</pre></div></div></div><div class=\"sk-item\"><div class=\"sk-estimator sk-toggleable\"><input class=\"sk-toggleable__control sk-hidden--visually\" id=\"8d571fcc-3d74-4405-8989-2129884ef19c\" type=\"checkbox\" ><label for=\"8d571fcc-3d74-4405-8989-2129884ef19c\" class=\"sk-toggleable__label sk-toggleable__label-arrow\">StandardScaler</label><div class=\"sk-toggleable__content\"><pre>StandardScaler()</pre></div></div></div></div></div></div></div></div></div>"
      ],
      "text/plain": [
       "Pipeline(steps=[('categorical',\n",
       "                 Pipeline(steps=[('imputation_constant',\n",
       "                                  SimpleImputer(fill_value='missing',\n",
       "                                                strategy='constant')),\n",
       "                                 ('onehot',\n",
       "                                  OneHotEncoder(handle_unknown='ignore'))])),\n",
       "                ('numerical',\n",
       "                 Pipeline(steps=[('imputation_mean', SimpleImputer()),\n",
       "                                 ('scaler', StandardScaler())]))])"
      ]
     },
     "execution_count": 51,
     "metadata": {},
     "output_type": "execute_result"
    }
   ],
   "source": [
    "preprocessor1\n"
   ]
  },
  {
   "cell_type": "code",
   "execution_count": 52,
   "id": "3b8491c6",
   "metadata": {},
   "outputs": [],
   "source": [
    "final_pipe2=Pipeline(\n",
    "    [(\"preprocessor\",preprocessor),(\"regressor\",RandomForestRegressor())]\n",
    "\n",
    ")"
   ]
  },
  {
   "cell_type": "code",
   "execution_count": 53,
   "id": "f15ad923",
   "metadata": {},
   "outputs": [
    {
     "data": {
      "text/html": [
       "<style>#sk-1ec6da23-fa59-49d0-91d1-5d5a69914473 {color: black;background-color: white;}#sk-1ec6da23-fa59-49d0-91d1-5d5a69914473 pre{padding: 0;}#sk-1ec6da23-fa59-49d0-91d1-5d5a69914473 div.sk-toggleable {background-color: white;}#sk-1ec6da23-fa59-49d0-91d1-5d5a69914473 label.sk-toggleable__label {cursor: pointer;display: block;width: 100%;margin-bottom: 0;padding: 0.3em;box-sizing: border-box;text-align: center;}#sk-1ec6da23-fa59-49d0-91d1-5d5a69914473 label.sk-toggleable__label-arrow:before {content: \"▸\";float: left;margin-right: 0.25em;color: #696969;}#sk-1ec6da23-fa59-49d0-91d1-5d5a69914473 label.sk-toggleable__label-arrow:hover:before {color: black;}#sk-1ec6da23-fa59-49d0-91d1-5d5a69914473 div.sk-estimator:hover label.sk-toggleable__label-arrow:before {color: black;}#sk-1ec6da23-fa59-49d0-91d1-5d5a69914473 div.sk-toggleable__content {max-height: 0;max-width: 0;overflow: hidden;text-align: left;background-color: #f0f8ff;}#sk-1ec6da23-fa59-49d0-91d1-5d5a69914473 div.sk-toggleable__content pre {margin: 0.2em;color: black;border-radius: 0.25em;background-color: #f0f8ff;}#sk-1ec6da23-fa59-49d0-91d1-5d5a69914473 input.sk-toggleable__control:checked~div.sk-toggleable__content {max-height: 200px;max-width: 100%;overflow: auto;}#sk-1ec6da23-fa59-49d0-91d1-5d5a69914473 input.sk-toggleable__control:checked~label.sk-toggleable__label-arrow:before {content: \"▾\";}#sk-1ec6da23-fa59-49d0-91d1-5d5a69914473 div.sk-estimator input.sk-toggleable__control:checked~label.sk-toggleable__label {background-color: #d4ebff;}#sk-1ec6da23-fa59-49d0-91d1-5d5a69914473 div.sk-label input.sk-toggleable__control:checked~label.sk-toggleable__label {background-color: #d4ebff;}#sk-1ec6da23-fa59-49d0-91d1-5d5a69914473 input.sk-hidden--visually {border: 0;clip: rect(1px 1px 1px 1px);clip: rect(1px, 1px, 1px, 1px);height: 1px;margin: -1px;overflow: hidden;padding: 0;position: absolute;width: 1px;}#sk-1ec6da23-fa59-49d0-91d1-5d5a69914473 div.sk-estimator {font-family: monospace;background-color: #f0f8ff;border: 1px dotted black;border-radius: 0.25em;box-sizing: border-box;margin-bottom: 0.5em;}#sk-1ec6da23-fa59-49d0-91d1-5d5a69914473 div.sk-estimator:hover {background-color: #d4ebff;}#sk-1ec6da23-fa59-49d0-91d1-5d5a69914473 div.sk-parallel-item::after {content: \"\";width: 100%;border-bottom: 1px solid gray;flex-grow: 1;}#sk-1ec6da23-fa59-49d0-91d1-5d5a69914473 div.sk-label:hover label.sk-toggleable__label {background-color: #d4ebff;}#sk-1ec6da23-fa59-49d0-91d1-5d5a69914473 div.sk-serial::before {content: \"\";position: absolute;border-left: 1px solid gray;box-sizing: border-box;top: 2em;bottom: 0;left: 50%;}#sk-1ec6da23-fa59-49d0-91d1-5d5a69914473 div.sk-serial {display: flex;flex-direction: column;align-items: center;background-color: white;padding-right: 0.2em;padding-left: 0.2em;}#sk-1ec6da23-fa59-49d0-91d1-5d5a69914473 div.sk-item {z-index: 1;}#sk-1ec6da23-fa59-49d0-91d1-5d5a69914473 div.sk-parallel {display: flex;align-items: stretch;justify-content: center;background-color: white;}#sk-1ec6da23-fa59-49d0-91d1-5d5a69914473 div.sk-parallel::before {content: \"\";position: absolute;border-left: 1px solid gray;box-sizing: border-box;top: 2em;bottom: 0;left: 50%;}#sk-1ec6da23-fa59-49d0-91d1-5d5a69914473 div.sk-parallel-item {display: flex;flex-direction: column;position: relative;background-color: white;}#sk-1ec6da23-fa59-49d0-91d1-5d5a69914473 div.sk-parallel-item:first-child::after {align-self: flex-end;width: 50%;}#sk-1ec6da23-fa59-49d0-91d1-5d5a69914473 div.sk-parallel-item:last-child::after {align-self: flex-start;width: 50%;}#sk-1ec6da23-fa59-49d0-91d1-5d5a69914473 div.sk-parallel-item:only-child::after {width: 0;}#sk-1ec6da23-fa59-49d0-91d1-5d5a69914473 div.sk-dashed-wrapped {border: 1px dashed gray;margin: 0 0.4em 0.5em 0.4em;box-sizing: border-box;padding-bottom: 0.4em;background-color: white;position: relative;}#sk-1ec6da23-fa59-49d0-91d1-5d5a69914473 div.sk-label label {font-family: monospace;font-weight: bold;background-color: white;display: inline-block;line-height: 1.2em;}#sk-1ec6da23-fa59-49d0-91d1-5d5a69914473 div.sk-label-container {position: relative;z-index: 2;text-align: center;}#sk-1ec6da23-fa59-49d0-91d1-5d5a69914473 div.sk-container {/* jupyter's `normalize.less` sets `[hidden] { display: none; }` but bootstrap.min.css set `[hidden] { display: none !important; }` so we also need the `!important` here to be able to override the default hidden behavior on the sphinx rendered scikit-learn.org. See: https://github.com/scikit-learn/scikit-learn/issues/21755 */display: inline-block !important;position: relative;}#sk-1ec6da23-fa59-49d0-91d1-5d5a69914473 div.sk-text-repr-fallback {display: none;}</style><div id=\"sk-1ec6da23-fa59-49d0-91d1-5d5a69914473\" class=\"sk-top-container\"><div class=\"sk-text-repr-fallback\"><pre>Pipeline(steps=[(&#x27;preprocessor&#x27;,\n",
       "                 ColumnTransformer(transformers=[(&#x27;categorical&#x27;,\n",
       "                                                  Pipeline(steps=[(&#x27;imputation_constant&#x27;,\n",
       "                                                                   SimpleImputer(fill_value=&#x27;missing&#x27;,\n",
       "                                                                                 strategy=&#x27;constant&#x27;)),\n",
       "                                                                  (&#x27;onehot&#x27;,\n",
       "                                                                   OneHotEncoder(handle_unknown=&#x27;ignore&#x27;))]),\n",
       "                                                  [&#x27;gender&#x27;, &#x27;city&#x27;]),\n",
       "                                                 (&#x27;numerical&#x27;,\n",
       "                                                  Pipeline(steps=[(&#x27;imputation_mean&#x27;,\n",
       "                                                                   SimpleImputer()),\n",
       "                                                                  (&#x27;scaler&#x27;,\n",
       "                                                                   StandardScaler())]),\n",
       "                                                  [&#x27;age&#x27;, &#x27;height&#x27;])])),\n",
       "                (&#x27;regressor&#x27;, RandomForestRegressor())])</pre><b>Please rerun this cell to show the HTML repr or trust the notebook.</b></div><div class=\"sk-container\" hidden><div class=\"sk-item sk-dashed-wrapped\"><div class=\"sk-label-container\"><div class=\"sk-label sk-toggleable\"><input class=\"sk-toggleable__control sk-hidden--visually\" id=\"53802def-a6d4-49ab-860c-399c0c2d652c\" type=\"checkbox\" ><label for=\"53802def-a6d4-49ab-860c-399c0c2d652c\" class=\"sk-toggleable__label sk-toggleable__label-arrow\">Pipeline</label><div class=\"sk-toggleable__content\"><pre>Pipeline(steps=[(&#x27;preprocessor&#x27;,\n",
       "                 ColumnTransformer(transformers=[(&#x27;categorical&#x27;,\n",
       "                                                  Pipeline(steps=[(&#x27;imputation_constant&#x27;,\n",
       "                                                                   SimpleImputer(fill_value=&#x27;missing&#x27;,\n",
       "                                                                                 strategy=&#x27;constant&#x27;)),\n",
       "                                                                  (&#x27;onehot&#x27;,\n",
       "                                                                   OneHotEncoder(handle_unknown=&#x27;ignore&#x27;))]),\n",
       "                                                  [&#x27;gender&#x27;, &#x27;city&#x27;]),\n",
       "                                                 (&#x27;numerical&#x27;,\n",
       "                                                  Pipeline(steps=[(&#x27;imputation_mean&#x27;,\n",
       "                                                                   SimpleImputer()),\n",
       "                                                                  (&#x27;scaler&#x27;,\n",
       "                                                                   StandardScaler())]),\n",
       "                                                  [&#x27;age&#x27;, &#x27;height&#x27;])])),\n",
       "                (&#x27;regressor&#x27;, RandomForestRegressor())])</pre></div></div></div><div class=\"sk-serial\"><div class=\"sk-item sk-dashed-wrapped\"><div class=\"sk-label-container\"><div class=\"sk-label sk-toggleable\"><input class=\"sk-toggleable__control sk-hidden--visually\" id=\"f381a48a-506d-4e7d-985e-44100e976445\" type=\"checkbox\" ><label for=\"f381a48a-506d-4e7d-985e-44100e976445\" class=\"sk-toggleable__label sk-toggleable__label-arrow\">preprocessor: ColumnTransformer</label><div class=\"sk-toggleable__content\"><pre>ColumnTransformer(transformers=[(&#x27;categorical&#x27;,\n",
       "                                 Pipeline(steps=[(&#x27;imputation_constant&#x27;,\n",
       "                                                  SimpleImputer(fill_value=&#x27;missing&#x27;,\n",
       "                                                                strategy=&#x27;constant&#x27;)),\n",
       "                                                 (&#x27;onehot&#x27;,\n",
       "                                                  OneHotEncoder(handle_unknown=&#x27;ignore&#x27;))]),\n",
       "                                 [&#x27;gender&#x27;, &#x27;city&#x27;]),\n",
       "                                (&#x27;numerical&#x27;,\n",
       "                                 Pipeline(steps=[(&#x27;imputation_mean&#x27;,\n",
       "                                                  SimpleImputer()),\n",
       "                                                 (&#x27;scaler&#x27;, StandardScaler())]),\n",
       "                                 [&#x27;age&#x27;, &#x27;height&#x27;])])</pre></div></div></div><div class=\"sk-parallel\"><div class=\"sk-parallel-item\"><div class=\"sk-item\"><div class=\"sk-label-container\"><div class=\"sk-label sk-toggleable\"><input class=\"sk-toggleable__control sk-hidden--visually\" id=\"099b0d28-341b-4003-897a-36c6fa7f14f8\" type=\"checkbox\" ><label for=\"099b0d28-341b-4003-897a-36c6fa7f14f8\" class=\"sk-toggleable__label sk-toggleable__label-arrow\">categorical</label><div class=\"sk-toggleable__content\"><pre>[&#x27;gender&#x27;, &#x27;city&#x27;]</pre></div></div></div><div class=\"sk-serial\"><div class=\"sk-item\"><div class=\"sk-serial\"><div class=\"sk-item\"><div class=\"sk-estimator sk-toggleable\"><input class=\"sk-toggleable__control sk-hidden--visually\" id=\"4a1dacc2-70e6-48c4-aabe-cd6d9f1b2b3d\" type=\"checkbox\" ><label for=\"4a1dacc2-70e6-48c4-aabe-cd6d9f1b2b3d\" class=\"sk-toggleable__label sk-toggleable__label-arrow\">SimpleImputer</label><div class=\"sk-toggleable__content\"><pre>SimpleImputer(fill_value=&#x27;missing&#x27;, strategy=&#x27;constant&#x27;)</pre></div></div></div><div class=\"sk-item\"><div class=\"sk-estimator sk-toggleable\"><input class=\"sk-toggleable__control sk-hidden--visually\" id=\"2d94f406-2656-43a4-9955-f58fe8063874\" type=\"checkbox\" ><label for=\"2d94f406-2656-43a4-9955-f58fe8063874\" class=\"sk-toggleable__label sk-toggleable__label-arrow\">OneHotEncoder</label><div class=\"sk-toggleable__content\"><pre>OneHotEncoder(handle_unknown=&#x27;ignore&#x27;)</pre></div></div></div></div></div></div></div></div><div class=\"sk-parallel-item\"><div class=\"sk-item\"><div class=\"sk-label-container\"><div class=\"sk-label sk-toggleable\"><input class=\"sk-toggleable__control sk-hidden--visually\" id=\"f4f27dca-b36a-4b73-8915-78dff77a5106\" type=\"checkbox\" ><label for=\"f4f27dca-b36a-4b73-8915-78dff77a5106\" class=\"sk-toggleable__label sk-toggleable__label-arrow\">numerical</label><div class=\"sk-toggleable__content\"><pre>[&#x27;age&#x27;, &#x27;height&#x27;]</pre></div></div></div><div class=\"sk-serial\"><div class=\"sk-item\"><div class=\"sk-serial\"><div class=\"sk-item\"><div class=\"sk-estimator sk-toggleable\"><input class=\"sk-toggleable__control sk-hidden--visually\" id=\"f459c795-84f9-4c94-8e1a-18f24fc15049\" type=\"checkbox\" ><label for=\"f459c795-84f9-4c94-8e1a-18f24fc15049\" class=\"sk-toggleable__label sk-toggleable__label-arrow\">SimpleImputer</label><div class=\"sk-toggleable__content\"><pre>SimpleImputer()</pre></div></div></div><div class=\"sk-item\"><div class=\"sk-estimator sk-toggleable\"><input class=\"sk-toggleable__control sk-hidden--visually\" id=\"a9690953-21d9-45c2-9ace-5ad923ff48db\" type=\"checkbox\" ><label for=\"a9690953-21d9-45c2-9ace-5ad923ff48db\" class=\"sk-toggleable__label sk-toggleable__label-arrow\">StandardScaler</label><div class=\"sk-toggleable__content\"><pre>StandardScaler()</pre></div></div></div></div></div></div></div></div></div></div><div class=\"sk-item\"><div class=\"sk-estimator sk-toggleable\"><input class=\"sk-toggleable__control sk-hidden--visually\" id=\"9ec3f5f6-28a1-4e61-9926-b0301354ef93\" type=\"checkbox\" ><label for=\"9ec3f5f6-28a1-4e61-9926-b0301354ef93\" class=\"sk-toggleable__label sk-toggleable__label-arrow\">RandomForestRegressor</label><div class=\"sk-toggleable__content\"><pre>RandomForestRegressor()</pre></div></div></div></div></div></div></div>"
      ],
      "text/plain": [
       "Pipeline(steps=[('preprocessor',\n",
       "                 ColumnTransformer(transformers=[('categorical',\n",
       "                                                  Pipeline(steps=[('imputation_constant',\n",
       "                                                                   SimpleImputer(fill_value='missing',\n",
       "                                                                                 strategy='constant')),\n",
       "                                                                  ('onehot',\n",
       "                                                                   OneHotEncoder(handle_unknown='ignore'))]),\n",
       "                                                  ['gender', 'city']),\n",
       "                                                 ('numerical',\n",
       "                                                  Pipeline(steps=[('imputation_mean',\n",
       "                                                                   SimpleImputer()),\n",
       "                                                                  ('scaler',\n",
       "                                                                   StandardScaler())]),\n",
       "                                                  ['age', 'height'])])),\n",
       "                ('regressor', RandomForestRegressor())])"
      ]
     },
     "execution_count": 53,
     "metadata": {},
     "output_type": "execute_result"
    }
   ],
   "source": [
    "final_pipe2"
   ]
  },
  {
   "cell_type": "code",
   "execution_count": 54,
   "id": "b908dc4e",
   "metadata": {},
   "outputs": [
    {
     "data": {
      "text/html": [
       "<style>#sk-06624814-25e1-4d51-9581-bfbe8a039a5b {color: black;background-color: white;}#sk-06624814-25e1-4d51-9581-bfbe8a039a5b pre{padding: 0;}#sk-06624814-25e1-4d51-9581-bfbe8a039a5b div.sk-toggleable {background-color: white;}#sk-06624814-25e1-4d51-9581-bfbe8a039a5b label.sk-toggleable__label {cursor: pointer;display: block;width: 100%;margin-bottom: 0;padding: 0.3em;box-sizing: border-box;text-align: center;}#sk-06624814-25e1-4d51-9581-bfbe8a039a5b label.sk-toggleable__label-arrow:before {content: \"▸\";float: left;margin-right: 0.25em;color: #696969;}#sk-06624814-25e1-4d51-9581-bfbe8a039a5b label.sk-toggleable__label-arrow:hover:before {color: black;}#sk-06624814-25e1-4d51-9581-bfbe8a039a5b div.sk-estimator:hover label.sk-toggleable__label-arrow:before {color: black;}#sk-06624814-25e1-4d51-9581-bfbe8a039a5b div.sk-toggleable__content {max-height: 0;max-width: 0;overflow: hidden;text-align: left;background-color: #f0f8ff;}#sk-06624814-25e1-4d51-9581-bfbe8a039a5b div.sk-toggleable__content pre {margin: 0.2em;color: black;border-radius: 0.25em;background-color: #f0f8ff;}#sk-06624814-25e1-4d51-9581-bfbe8a039a5b input.sk-toggleable__control:checked~div.sk-toggleable__content {max-height: 200px;max-width: 100%;overflow: auto;}#sk-06624814-25e1-4d51-9581-bfbe8a039a5b input.sk-toggleable__control:checked~label.sk-toggleable__label-arrow:before {content: \"▾\";}#sk-06624814-25e1-4d51-9581-bfbe8a039a5b div.sk-estimator input.sk-toggleable__control:checked~label.sk-toggleable__label {background-color: #d4ebff;}#sk-06624814-25e1-4d51-9581-bfbe8a039a5b div.sk-label input.sk-toggleable__control:checked~label.sk-toggleable__label {background-color: #d4ebff;}#sk-06624814-25e1-4d51-9581-bfbe8a039a5b input.sk-hidden--visually {border: 0;clip: rect(1px 1px 1px 1px);clip: rect(1px, 1px, 1px, 1px);height: 1px;margin: -1px;overflow: hidden;padding: 0;position: absolute;width: 1px;}#sk-06624814-25e1-4d51-9581-bfbe8a039a5b div.sk-estimator {font-family: monospace;background-color: #f0f8ff;border: 1px dotted black;border-radius: 0.25em;box-sizing: border-box;margin-bottom: 0.5em;}#sk-06624814-25e1-4d51-9581-bfbe8a039a5b div.sk-estimator:hover {background-color: #d4ebff;}#sk-06624814-25e1-4d51-9581-bfbe8a039a5b div.sk-parallel-item::after {content: \"\";width: 100%;border-bottom: 1px solid gray;flex-grow: 1;}#sk-06624814-25e1-4d51-9581-bfbe8a039a5b div.sk-label:hover label.sk-toggleable__label {background-color: #d4ebff;}#sk-06624814-25e1-4d51-9581-bfbe8a039a5b div.sk-serial::before {content: \"\";position: absolute;border-left: 1px solid gray;box-sizing: border-box;top: 2em;bottom: 0;left: 50%;}#sk-06624814-25e1-4d51-9581-bfbe8a039a5b div.sk-serial {display: flex;flex-direction: column;align-items: center;background-color: white;padding-right: 0.2em;padding-left: 0.2em;}#sk-06624814-25e1-4d51-9581-bfbe8a039a5b div.sk-item {z-index: 1;}#sk-06624814-25e1-4d51-9581-bfbe8a039a5b div.sk-parallel {display: flex;align-items: stretch;justify-content: center;background-color: white;}#sk-06624814-25e1-4d51-9581-bfbe8a039a5b div.sk-parallel::before {content: \"\";position: absolute;border-left: 1px solid gray;box-sizing: border-box;top: 2em;bottom: 0;left: 50%;}#sk-06624814-25e1-4d51-9581-bfbe8a039a5b div.sk-parallel-item {display: flex;flex-direction: column;position: relative;background-color: white;}#sk-06624814-25e1-4d51-9581-bfbe8a039a5b div.sk-parallel-item:first-child::after {align-self: flex-end;width: 50%;}#sk-06624814-25e1-4d51-9581-bfbe8a039a5b div.sk-parallel-item:last-child::after {align-self: flex-start;width: 50%;}#sk-06624814-25e1-4d51-9581-bfbe8a039a5b div.sk-parallel-item:only-child::after {width: 0;}#sk-06624814-25e1-4d51-9581-bfbe8a039a5b div.sk-dashed-wrapped {border: 1px dashed gray;margin: 0 0.4em 0.5em 0.4em;box-sizing: border-box;padding-bottom: 0.4em;background-color: white;position: relative;}#sk-06624814-25e1-4d51-9581-bfbe8a039a5b div.sk-label label {font-family: monospace;font-weight: bold;background-color: white;display: inline-block;line-height: 1.2em;}#sk-06624814-25e1-4d51-9581-bfbe8a039a5b div.sk-label-container {position: relative;z-index: 2;text-align: center;}#sk-06624814-25e1-4d51-9581-bfbe8a039a5b div.sk-container {/* jupyter's `normalize.less` sets `[hidden] { display: none; }` but bootstrap.min.css set `[hidden] { display: none !important; }` so we also need the `!important` here to be able to override the default hidden behavior on the sphinx rendered scikit-learn.org. See: https://github.com/scikit-learn/scikit-learn/issues/21755 */display: inline-block !important;position: relative;}#sk-06624814-25e1-4d51-9581-bfbe8a039a5b div.sk-text-repr-fallback {display: none;}</style><div id=\"sk-06624814-25e1-4d51-9581-bfbe8a039a5b\" class=\"sk-top-container\"><div class=\"sk-text-repr-fallback\"><pre>Pipeline(steps=[(&#x27;standard_scaler&#x27;, StandardScaler()),\n",
       "                (&#x27;classifier&#x27;, LogisticRegression())])</pre><b>Please rerun this cell to show the HTML repr or trust the notebook.</b></div><div class=\"sk-container\" hidden><div class=\"sk-item sk-dashed-wrapped\"><div class=\"sk-label-container\"><div class=\"sk-label sk-toggleable\"><input class=\"sk-toggleable__control sk-hidden--visually\" id=\"38af710c-cebd-4e46-9fd4-447c837d1e41\" type=\"checkbox\" ><label for=\"38af710c-cebd-4e46-9fd4-447c837d1e41\" class=\"sk-toggleable__label sk-toggleable__label-arrow\">Pipeline</label><div class=\"sk-toggleable__content\"><pre>Pipeline(steps=[(&#x27;standard_scaler&#x27;, StandardScaler()),\n",
       "                (&#x27;classifier&#x27;, LogisticRegression())])</pre></div></div></div><div class=\"sk-serial\"><div class=\"sk-item\"><div class=\"sk-estimator sk-toggleable\"><input class=\"sk-toggleable__control sk-hidden--visually\" id=\"a7318dab-3e7c-4e4d-8357-0ebb66d43abf\" type=\"checkbox\" ><label for=\"a7318dab-3e7c-4e4d-8357-0ebb66d43abf\" class=\"sk-toggleable__label sk-toggleable__label-arrow\">StandardScaler</label><div class=\"sk-toggleable__content\"><pre>StandardScaler()</pre></div></div></div><div class=\"sk-item\"><div class=\"sk-estimator sk-toggleable\"><input class=\"sk-toggleable__control sk-hidden--visually\" id=\"d3b1cfa4-5dbe-4ebb-ad3f-56822bb0c6ab\" type=\"checkbox\" ><label for=\"d3b1cfa4-5dbe-4ebb-ad3f-56822bb0c6ab\" class=\"sk-toggleable__label sk-toggleable__label-arrow\">LogisticRegression</label><div class=\"sk-toggleable__content\"><pre>LogisticRegression()</pre></div></div></div></div></div></div></div>"
      ],
      "text/plain": [
       "Pipeline(steps=[('standard_scaler', StandardScaler()),\n",
       "                ('classifier', LogisticRegression())])"
      ]
     },
     "execution_count": 54,
     "metadata": {},
     "output_type": "execute_result"
    }
   ],
   "source": [
    "pipe.fit(X_train,y_train)"
   ]
  },
  {
   "cell_type": "code",
   "execution_count": null,
   "id": "ad1f31a1",
   "metadata": {},
   "outputs": [],
   "source": []
  },
  {
   "cell_type": "code",
   "execution_count": null,
   "id": "e044668d",
   "metadata": {},
   "outputs": [],
   "source": []
  }
 ],
 "metadata": {
  "kernelspec": {
   "display_name": "Python 3 (ipykernel)",
   "language": "python",
   "name": "python3"
  },
  "language_info": {
   "codemirror_mode": {
    "name": "ipython",
    "version": 3
   },
   "file_extension": ".py",
   "mimetype": "text/x-python",
   "name": "python",
   "nbconvert_exporter": "python",
   "pygments_lexer": "ipython3",
   "version": "3.9.12"
  }
 },
 "nbformat": 4,
 "nbformat_minor": 5
}
